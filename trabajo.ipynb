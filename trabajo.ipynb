{
 "cells": [
  {
   "cell_type": "code",
   "execution_count": null,
   "metadata": {},
   "outputs": [
    {
     "name": "stdout",
     "output_type": "stream",
     "text": [
      "Collecting geopandas\n",
      "  Downloading geopandas-1.0.1-py3-none-any.whl (323 kB)\n",
      "\u001b[K     |████████████████████████████████| 323 kB 3.6 MB/s eta 0:00:01\n",
      "\u001b[?25hCollecting shapely>=2.0.0\n",
      "  Downloading shapely-2.0.6-cp39-cp39-manylinux_2_17_x86_64.manylinux2014_x86_64.whl (2.5 MB)\n",
      "\u001b[K     |████████████████████████████████| 2.5 MB 11.6 MB/s eta 0:00:01\n",
      "\u001b[?25hRequirement already satisfied: pandas>=1.4.0 in /home/carazola13-90_/anaconda3/lib/python3.9/site-packages (from geopandas) (1.4.2)\n",
      "Requirement already satisfied: packaging in /home/carazola13-90_/anaconda3/lib/python3.9/site-packages (from geopandas) (21.3)\n",
      "Collecting pyproj>=3.3.0\n",
      "  Downloading pyproj-3.6.1-cp39-cp39-manylinux_2_17_x86_64.manylinux2014_x86_64.whl (8.3 MB)\n",
      "\u001b[K     |████████████████████████████████| 8.3 MB 11.8 MB/s eta 0:00:01\n",
      "\u001b[?25hCollecting pyogrio>=0.7.2\n",
      "  Downloading pyogrio-0.10.0-cp39-cp39-manylinux_2_28_x86_64.whl (23.9 MB)\n",
      "\u001b[K     |████████████████████████████████| 23.9 MB 14.5 MB/s eta 0:00:01\n",
      "\u001b[?25hCollecting numpy>=1.22\n",
      "  Downloading numpy-2.0.2-cp39-cp39-manylinux_2_17_x86_64.manylinux2014_x86_64.whl (19.5 MB)\n",
      "\u001b[K     |████████████████████████████████| 19.5 MB 6.2 MB/s eta 0:00:01�███████████▍       | 14.9 MB 6.2 MB/s eta 0:00:01\n",
      "\u001b[?25hRequirement already satisfied: python-dateutil>=2.8.1 in /home/carazola13-90_/anaconda3/lib/python3.9/site-packages (from pandas>=1.4.0->geopandas) (2.8.2)\n",
      "Requirement already satisfied: pytz>=2020.1 in /home/carazola13-90_/anaconda3/lib/python3.9/site-packages (from pandas>=1.4.0->geopandas) (2021.3)\n",
      "Requirement already satisfied: certifi in /home/carazola13-90_/anaconda3/lib/python3.9/site-packages (from pyogrio>=0.7.2->geopandas) (2021.10.8)\n",
      "Requirement already satisfied: six>=1.5 in /home/carazola13-90_/anaconda3/lib/python3.9/site-packages (from python-dateutil>=2.8.1->pandas>=1.4.0->geopandas) (1.16.0)\n",
      "Requirement already satisfied: pyparsing!=3.0.5,>=2.0.2 in /home/carazola13-90_/anaconda3/lib/python3.9/site-packages (from packaging->geopandas) (3.0.4)\n",
      "Installing collected packages: numpy, shapely, pyproj, pyogrio, geopandas\n",
      "  Attempting uninstall: numpy\n",
      "    Found existing installation: numpy 1.21.5\n",
      "    Uninstalling numpy-1.21.5:\n",
      "      Successfully uninstalled numpy-1.21.5\n",
      "\u001b[31mERROR: pip's dependency resolver does not currently take into account all the packages that are installed. This behaviour is the source of the following dependency conflicts.\n",
      "daal4py 2021.5.0 requires daal==2021.4.0, which is not installed.\n",
      "scipy 1.7.3 requires numpy<1.23.0,>=1.16.5, but you have numpy 2.0.2 which is incompatible.\n",
      "numba 0.55.1 requires numpy<1.22,>=1.18, but you have numpy 2.0.2 which is incompatible.\u001b[0m\n",
      "Successfully installed geopandas-1.0.1 numpy-2.0.2 pyogrio-0.10.0 pyproj-3.6.1 shapely-2.0.6\n",
      "Collecting geoplot\n",
      "  Downloading geoplot-0.5.1-py3-none-any.whl (28 kB)\n",
      "Requirement already satisfied: pandas in /home/carazola13-90_/anaconda3/lib/python3.9/site-packages (from geoplot) (1.4.2)\n",
      "Requirement already satisfied: seaborn in /home/carazola13-90_/anaconda3/lib/python3.9/site-packages (from geoplot) (0.11.2)\n",
      "Requirement already satisfied: matplotlib>=3.1.2 in /home/carazola13-90_/anaconda3/lib/python3.9/site-packages (from geoplot) (3.5.1)\n",
      "Collecting mapclassify>=2.1\n",
      "  Downloading mapclassify-2.8.1-py3-none-any.whl (59 kB)\n",
      "\u001b[K     |████████████████████████████████| 59 kB 3.6 MB/s eta 0:00:011\n",
      "\u001b[?25hCollecting contextily>=1.0.0\n",
      "  Downloading contextily-1.6.2-py3-none-any.whl (17 kB)\n",
      "Collecting cartopy\n",
      "  Downloading Cartopy-0.23.0-cp39-cp39-manylinux_2_17_x86_64.manylinux2014_x86_64.whl (11.6 MB)\n",
      "\u001b[K     |████████████████████████████████| 11.6 MB 4.2 MB/s eta 0:00:01\n",
      "\u001b[?25hRequirement already satisfied: geopandas>=0.9.0 in /home/carazola13-90_/anaconda3/lib/python3.9/site-packages (from geoplot) (1.0.1)\n",
      "Requirement already satisfied: joblib in /home/carazola13-90_/anaconda3/lib/python3.9/site-packages (from contextily>=1.0.0->geoplot) (1.1.0)\n",
      "Requirement already satisfied: xyzservices in /home/carazola13-90_/anaconda3/lib/python3.9/site-packages (from contextily>=1.0.0->geoplot) (2024.9.0)\n",
      "Requirement already satisfied: requests in /home/carazola13-90_/anaconda3/lib/python3.9/site-packages (from contextily>=1.0.0->geoplot) (2.27.1)\n",
      "Collecting mercantile\n",
      "  Downloading mercantile-1.2.1-py3-none-any.whl (14 kB)\n",
      "Requirement already satisfied: pillow in /home/carazola13-90_/anaconda3/lib/python3.9/site-packages (from contextily>=1.0.0->geoplot) (9.0.1)\n",
      "Collecting geopy\n",
      "  Downloading geopy-2.4.1-py3-none-any.whl (125 kB)\n",
      "\u001b[K     |████████████████████████████████| 125 kB 7.2 MB/s eta 0:00:01\n",
      "\u001b[?25hCollecting rasterio\n",
      "  Downloading rasterio-1.4.2-cp39-cp39-manylinux_2_17_x86_64.manylinux2014_x86_64.whl (22.2 MB)\n",
      "\u001b[K     |████████████████████████████████| 22.2 MB 197 kB/s eta 0:00:01\n",
      "\u001b[?25hRequirement already satisfied: numpy>=1.22 in /home/carazola13-90_/anaconda3/lib/python3.9/site-packages (from geopandas>=0.9.0->geoplot) (2.0.2)\n",
      "Requirement already satisfied: pyogrio>=0.7.2 in /home/carazola13-90_/anaconda3/lib/python3.9/site-packages (from geopandas>=0.9.0->geoplot) (0.10.0)\n",
      "Requirement already satisfied: shapely>=2.0.0 in /home/carazola13-90_/anaconda3/lib/python3.9/site-packages (from geopandas>=0.9.0->geoplot) (2.0.6)\n",
      "Requirement already satisfied: pyproj>=3.3.0 in /home/carazola13-90_/anaconda3/lib/python3.9/site-packages (from geopandas>=0.9.0->geoplot) (3.6.1)\n",
      "Requirement already satisfied: packaging in /home/carazola13-90_/anaconda3/lib/python3.9/site-packages (from geopandas>=0.9.0->geoplot) (21.3)\n",
      "Requirement already satisfied: networkx>=2.7 in /home/carazola13-90_/anaconda3/lib/python3.9/site-packages (from mapclassify>=2.1->geoplot) (2.7.1)\n",
      "Requirement already satisfied: scikit-learn>=1.0 in /home/carazola13-90_/anaconda3/lib/python3.9/site-packages (from mapclassify>=2.1->geoplot) (1.0.2)\n",
      "Collecting scipy>=1.8\n",
      "  Downloading scipy-1.13.1-cp39-cp39-manylinux_2_17_x86_64.manylinux2014_x86_64.whl (38.6 MB)\n",
      "\u001b[K     |████████████████████████████████| 38.6 MB 6.9 MB/s eta 0:00:011\n",
      "\u001b[?25hRequirement already satisfied: cycler>=0.10 in /home/carazola13-90_/anaconda3/lib/python3.9/site-packages (from matplotlib>=3.1.2->geoplot) (0.11.0)\n",
      "Requirement already satisfied: fonttools>=4.22.0 in /home/carazola13-90_/anaconda3/lib/python3.9/site-packages (from matplotlib>=3.1.2->geoplot) (4.25.0)\n",
      "Requirement already satisfied: python-dateutil>=2.7 in /home/carazola13-90_/anaconda3/lib/python3.9/site-packages (from matplotlib>=3.1.2->geoplot) (2.8.2)\n",
      "Requirement already satisfied: pyparsing>=2.2.1 in /home/carazola13-90_/anaconda3/lib/python3.9/site-packages (from matplotlib>=3.1.2->geoplot) (3.0.4)\n",
      "Requirement already satisfied: kiwisolver>=1.0.1 in /home/carazola13-90_/anaconda3/lib/python3.9/site-packages (from matplotlib>=3.1.2->geoplot) (1.3.2)\n",
      "Requirement already satisfied: pytz>=2020.1 in /home/carazola13-90_/anaconda3/lib/python3.9/site-packages (from pandas->geoplot) (2021.3)\n",
      "Requirement already satisfied: certifi in /home/carazola13-90_/anaconda3/lib/python3.9/site-packages (from pyogrio>=0.7.2->geopandas>=0.9.0->geoplot) (2021.10.8)\n",
      "Requirement already satisfied: six>=1.5 in /home/carazola13-90_/anaconda3/lib/python3.9/site-packages (from python-dateutil>=2.7->matplotlib>=3.1.2->geoplot) (1.16.0)\n",
      "Requirement already satisfied: threadpoolctl>=2.0.0 in /home/carazola13-90_/anaconda3/lib/python3.9/site-packages (from scikit-learn>=1.0->mapclassify>=2.1->geoplot) (2.2.0)\n",
      "Collecting pyshp>=2.3\n",
      "  Downloading pyshp-2.3.1-py2.py3-none-any.whl (46 kB)\n",
      "\u001b[K     |████████████████████████████████| 46 kB 4.0 MB/s  eta 0:00:01\n",
      "\u001b[?25hCollecting geographiclib<3,>=1.52\n",
      "  Downloading geographiclib-2.0-py3-none-any.whl (40 kB)\n",
      "\u001b[K     |████████████████████████████████| 40 kB 5.8 MB/s  eta 0:00:01\n",
      "\u001b[?25hRequirement already satisfied: click>=3.0 in /home/carazola13-90_/anaconda3/lib/python3.9/site-packages (from mercantile->contextily>=1.0.0->geoplot) (8.0.4)\n",
      "Collecting cligj>=0.5\n",
      "  Downloading cligj-0.7.2-py3-none-any.whl (7.1 kB)\n",
      "Requirement already satisfied: attrs in /home/carazola13-90_/anaconda3/lib/python3.9/site-packages (from rasterio->contextily>=1.0.0->geoplot) (24.2.0)\n",
      "Collecting affine\n",
      "  Downloading affine-2.4.0-py3-none-any.whl (15 kB)\n",
      "Requirement already satisfied: importlib-metadata in /home/carazola13-90_/anaconda3/lib/python3.9/site-packages (from rasterio->contextily>=1.0.0->geoplot) (4.11.3)\n",
      "Collecting click-plugins\n",
      "  Downloading click_plugins-1.1.1-py2.py3-none-any.whl (7.5 kB)\n",
      "Requirement already satisfied: zipp>=0.5 in /home/carazola13-90_/anaconda3/lib/python3.9/site-packages (from importlib-metadata->rasterio->contextily>=1.0.0->geoplot) (3.7.0)\n",
      "Requirement already satisfied: urllib3<1.27,>=1.21.1 in /home/carazola13-90_/anaconda3/lib/python3.9/site-packages (from requests->contextily>=1.0.0->geoplot) (1.26.9)\n",
      "Requirement already satisfied: idna<4,>=2.5 in /home/carazola13-90_/anaconda3/lib/python3.9/site-packages (from requests->contextily>=1.0.0->geoplot) (3.3)\n",
      "Requirement already satisfied: charset-normalizer~=2.0.0 in /home/carazola13-90_/anaconda3/lib/python3.9/site-packages (from requests->contextily>=1.0.0->geoplot) (2.0.4)\n",
      "Installing collected packages: scipy, geographiclib, cligj, click-plugins, affine, rasterio, pyshp, mercantile, geopy, mapclassify, contextily, cartopy, geoplot\n",
      "  Attempting uninstall: scipy\n",
      "    Found existing installation: scipy 1.7.3\n",
      "    Uninstalling scipy-1.7.3:\n",
      "      Successfully uninstalled scipy-1.7.3\n",
      "Successfully installed affine-2.4.0 cartopy-0.23.0 click-plugins-1.1.1 cligj-0.7.2 contextily-1.6.2 geographiclib-2.0 geoplot-0.5.1 geopy-2.4.1 mapclassify-2.8.1 mercantile-1.2.1 pyshp-2.3.1 rasterio-1.4.2 scipy-1.13.1\n"
     ]
    }
   ],
   "source": [
    "#He instalado estas dos librerias para usarlas junto con matplotlib y hacer mapas.\n",
    "#!pip install geopandas\n",
    "#!pip install geoplot"
   ]
  },
  {
   "cell_type": "code",
   "execution_count": null,
   "metadata": {},
   "outputs": [
    {
     "name": "stdout",
     "output_type": "stream",
     "text": [
      "Collecting pandas\n",
      "  Downloading pandas-2.2.3-cp311-cp311-manylinux_2_17_x86_64.manylinux2014_x86_64.whl.metadata (89 kB)\n",
      "Collecting numpy>=1.23.2 (from pandas)\n",
      "  Downloading numpy-2.1.3-cp311-cp311-manylinux_2_17_x86_64.manylinux2014_x86_64.whl.metadata (62 kB)\n",
      "Requirement already satisfied: python-dateutil>=2.8.2 in ./.conda/lib/python3.11/site-packages (from pandas) (2.9.0.post0)\n",
      "Collecting pytz>=2020.1 (from pandas)\n",
      "  Downloading pytz-2024.2-py2.py3-none-any.whl.metadata (22 kB)\n",
      "Collecting tzdata>=2022.7 (from pandas)\n",
      "  Downloading tzdata-2024.2-py2.py3-none-any.whl.metadata (1.4 kB)\n",
      "Requirement already satisfied: six>=1.5 in ./.conda/lib/python3.11/site-packages (from python-dateutil>=2.8.2->pandas) (1.16.0)\n",
      "Downloading pandas-2.2.3-cp311-cp311-manylinux_2_17_x86_64.manylinux2014_x86_64.whl (13.1 MB)\n",
      "\u001b[2K   \u001b[90m━━━━━━━━━━━━━━━━━━━━━━━━━━━━━━━━━━━━━━━━\u001b[0m \u001b[32m13.1/13.1 MB\u001b[0m \u001b[31m1.9 MB/s\u001b[0m eta \u001b[36m0:00:00\u001b[0ma \u001b[36m0:00:01\u001b[0m\n",
      "\u001b[?25hDownloading numpy-2.1.3-cp311-cp311-manylinux_2_17_x86_64.manylinux2014_x86_64.whl (16.3 MB)\n",
      "\u001b[2K   \u001b[90m━━━━━━━━━━━━━━━━━━━━━━━━━━━━━━━━━━━━━━━━\u001b[0m \u001b[32m16.3/16.3 MB\u001b[0m \u001b[31m1.9 MB/s\u001b[0m eta \u001b[36m0:00:00\u001b[0m00:01\u001b[0m00:01\u001b[0m\n",
      "\u001b[?25hDownloading pytz-2024.2-py2.py3-none-any.whl (508 kB)\n",
      "Downloading tzdata-2024.2-py2.py3-none-any.whl (346 kB)\n",
      "Installing collected packages: pytz, tzdata, numpy, pandas\n",
      "Successfully installed numpy-2.1.3 pandas-2.2.3 pytz-2024.2 tzdata-2024.2\n"
     ]
    }
   ],
   "source": [
    "#!pip install pandas"
   ]
  },
  {
   "cell_type": "code",
   "execution_count": null,
   "metadata": {},
   "outputs": [
    {
     "name": "stdout",
     "output_type": "stream",
     "text": [
      "Collecting scipy\n",
      "  Downloading scipy-1.14.1-cp311-cp311-manylinux_2_17_x86_64.manylinux2014_x86_64.whl.metadata (60 kB)\n",
      "Requirement already satisfied: numpy<2.3,>=1.23.5 in ./.conda/lib/python3.11/site-packages (from scipy) (2.1.3)\n",
      "Downloading scipy-1.14.1-cp311-cp311-manylinux_2_17_x86_64.manylinux2014_x86_64.whl (41.2 MB)\n",
      "\u001b[2K   \u001b[90m━━━━━━━━━━━━━━━━━━━━━━━━━━━━━━━━━━━━━━━━\u001b[0m \u001b[32m41.2/41.2 MB\u001b[0m \u001b[31m1.9 MB/s\u001b[0m eta \u001b[36m0:00:00\u001b[0m00:01\u001b[0m00:01\u001b[0m\n",
      "\u001b[?25hInstalling collected packages: scipy\n",
      "Successfully installed scipy-1.14.1\n"
     ]
    }
   ],
   "source": [
    "#!pip install scipy"
   ]
  },
  {
   "cell_type": "code",
   "execution_count": null,
   "metadata": {},
   "outputs": [
    {
     "name": "stdout",
     "output_type": "stream",
     "text": [
      "Collecting seaborn\n",
      "  Downloading seaborn-0.13.2-py3-none-any.whl.metadata (5.4 kB)\n",
      "Requirement already satisfied: numpy!=1.24.0,>=1.20 in ./.conda/lib/python3.11/site-packages (from seaborn) (2.1.3)\n",
      "Requirement already satisfied: pandas>=1.2 in ./.conda/lib/python3.11/site-packages (from seaborn) (2.2.3)\n",
      "Collecting matplotlib!=3.6.1,>=3.4 (from seaborn)\n",
      "  Downloading matplotlib-3.9.2-cp311-cp311-manylinux_2_17_x86_64.manylinux2014_x86_64.whl.metadata (11 kB)\n",
      "Collecting contourpy>=1.0.1 (from matplotlib!=3.6.1,>=3.4->seaborn)\n",
      "  Downloading contourpy-1.3.1-cp311-cp311-manylinux_2_17_x86_64.manylinux2014_x86_64.whl.metadata (5.4 kB)\n",
      "Collecting cycler>=0.10 (from matplotlib!=3.6.1,>=3.4->seaborn)\n",
      "  Downloading cycler-0.12.1-py3-none-any.whl.metadata (3.8 kB)\n",
      "Collecting fonttools>=4.22.0 (from matplotlib!=3.6.1,>=3.4->seaborn)\n",
      "  Downloading fonttools-4.55.0-cp311-cp311-manylinux_2_17_x86_64.manylinux2014_x86_64.whl.metadata (164 kB)\n",
      "Collecting kiwisolver>=1.3.1 (from matplotlib!=3.6.1,>=3.4->seaborn)\n",
      "  Downloading kiwisolver-1.4.7-cp311-cp311-manylinux_2_17_x86_64.manylinux2014_x86_64.whl.metadata (6.3 kB)\n",
      "Requirement already satisfied: packaging>=20.0 in ./.conda/lib/python3.11/site-packages (from matplotlib!=3.6.1,>=3.4->seaborn) (24.2)\n",
      "Collecting pillow>=8 (from matplotlib!=3.6.1,>=3.4->seaborn)\n",
      "  Downloading pillow-11.0.0-cp311-cp311-manylinux_2_28_x86_64.whl.metadata (9.1 kB)\n",
      "Collecting pyparsing>=2.3.1 (from matplotlib!=3.6.1,>=3.4->seaborn)\n",
      "  Downloading pyparsing-3.2.0-py3-none-any.whl.metadata (5.0 kB)\n",
      "Requirement already satisfied: python-dateutil>=2.7 in ./.conda/lib/python3.11/site-packages (from matplotlib!=3.6.1,>=3.4->seaborn) (2.9.0.post0)\n",
      "Requirement already satisfied: pytz>=2020.1 in ./.conda/lib/python3.11/site-packages (from pandas>=1.2->seaborn) (2024.2)\n",
      "Requirement already satisfied: tzdata>=2022.7 in ./.conda/lib/python3.11/site-packages (from pandas>=1.2->seaborn) (2024.2)\n",
      "Requirement already satisfied: six>=1.5 in ./.conda/lib/python3.11/site-packages (from python-dateutil>=2.7->matplotlib!=3.6.1,>=3.4->seaborn) (1.16.0)\n",
      "Downloading seaborn-0.13.2-py3-none-any.whl (294 kB)\n",
      "Downloading matplotlib-3.9.2-cp311-cp311-manylinux_2_17_x86_64.manylinux2014_x86_64.whl (8.3 MB)\n",
      "\u001b[2K   \u001b[90m━━━━━━━━━━━━━━━━━━━━━━━━━━━━━━━━━━━━━━━━\u001b[0m \u001b[32m8.3/8.3 MB\u001b[0m \u001b[31m1.7 MB/s\u001b[0m eta \u001b[36m0:00:00\u001b[0ma \u001b[36m0:00:01\u001b[0m\n",
      "\u001b[?25hDownloading contourpy-1.3.1-cp311-cp311-manylinux_2_17_x86_64.manylinux2014_x86_64.whl (326 kB)\n",
      "Downloading cycler-0.12.1-py3-none-any.whl (8.3 kB)\n",
      "Downloading fonttools-4.55.0-cp311-cp311-manylinux_2_17_x86_64.manylinux2014_x86_64.whl (4.9 MB)\n",
      "\u001b[2K   \u001b[90m━━━━━━━━━━━━━━━━━━━━━━━━━━━━━━━━━━━━━━━━\u001b[0m \u001b[32m4.9/4.9 MB\u001b[0m \u001b[31m1.8 MB/s\u001b[0m eta \u001b[36m0:00:00\u001b[0ma \u001b[36m0:00:01\u001b[0m\n",
      "\u001b[?25hDownloading kiwisolver-1.4.7-cp311-cp311-manylinux_2_17_x86_64.manylinux2014_x86_64.whl (1.4 MB)\n",
      "\u001b[2K   \u001b[90m━━━━━━━━━━━━━━━━━━━━━━━━━━━━━━━━━━━━━━━━\u001b[0m \u001b[32m1.4/1.4 MB\u001b[0m \u001b[31m1.8 MB/s\u001b[0m eta \u001b[36m0:00:00\u001b[0ma \u001b[36m0:00:01\u001b[0m\n",
      "\u001b[?25hDownloading pillow-11.0.0-cp311-cp311-manylinux_2_28_x86_64.whl (4.4 MB)\n",
      "\u001b[2K   \u001b[90m━━━━━━━━━━━━━━━━━━━━━━━━━━━━━━━━━━━━━━━━\u001b[0m \u001b[32m4.4/4.4 MB\u001b[0m \u001b[31m1.9 MB/s\u001b[0m eta \u001b[36m0:00:00\u001b[0ma \u001b[36m0:00:01\u001b[0m\n",
      "\u001b[?25hDownloading pyparsing-3.2.0-py3-none-any.whl (106 kB)\n",
      "Installing collected packages: pyparsing, pillow, kiwisolver, fonttools, cycler, contourpy, matplotlib, seaborn\n",
      "Successfully installed contourpy-1.3.1 cycler-0.12.1 fonttools-4.55.0 kiwisolver-1.4.7 matplotlib-3.9.2 pillow-11.0.0 pyparsing-3.2.0 seaborn-0.13.2\n"
     ]
    }
   ],
   "source": [
    "#!pip install seaborn"
   ]
  },
  {
   "cell_type": "code",
   "execution_count": 6,
   "metadata": {},
   "outputs": [],
   "source": [
    "#Importaciones\n",
    "import pandas as pd\n",
    "import numpy as np\n",
    "from scipy.stats import shapiro, levene\n",
    "from scipy.stats import ttest_ind \n",
    "from scipy.stats import mannwhitneyu\n",
    "from scipy.stats import chi2_contingency \n",
    "import scipy.stats as stats\n",
    "import seaborn as sns\n",
    "import matplotlib.pyplot as plt\n",
    "\n"
   ]
  },
  {
   "cell_type": "code",
   "execution_count": 7,
   "metadata": {},
   "outputs": [],
   "source": [
    "pd.set_option('display.max_columns', None)"
   ]
  },
  {
   "cell_type": "markdown",
   "metadata": {},
   "source": [
    "1.0 EXPLORACIÓN INICIAL"
   ]
  },
  {
   "cell_type": "code",
   "execution_count": 8,
   "metadata": {},
   "outputs": [],
   "source": [
    "#Importar CSV 1\n",
    "df1 = pd.read_csv(\"files/Customer-Flight-Activity.csv\", index_col=0)\n"
   ]
  },
  {
   "cell_type": "code",
   "execution_count": 9,
   "metadata": {},
   "outputs": [],
   "source": [
    "#Importar CSV 2\n",
    "df2 = pd.read_csv(\"files/Customer-Loyalty-History.csv\", index_col=0)"
   ]
  },
  {
   "cell_type": "markdown",
   "metadata": {},
   "source": [
    "1.1 Realiza una exploración inicial de los datos para identificar posibles problemas, como valores nulos, atípicos o datos faltantes en las columnas relevantes."
   ]
  },
  {
   "cell_type": "code",
   "execution_count": 10,
   "metadata": {},
   "outputs": [
    {
     "data": {
      "text/html": [
       "<div>\n",
       "<style scoped>\n",
       "    .dataframe tbody tr th:only-of-type {\n",
       "        vertical-align: middle;\n",
       "    }\n",
       "\n",
       "    .dataframe tbody tr th {\n",
       "        vertical-align: top;\n",
       "    }\n",
       "\n",
       "    .dataframe thead th {\n",
       "        text-align: right;\n",
       "    }\n",
       "</style>\n",
       "<table border=\"1\" class=\"dataframe\">\n",
       "  <thead>\n",
       "    <tr style=\"text-align: right;\">\n",
       "      <th></th>\n",
       "      <th>Year</th>\n",
       "      <th>Month</th>\n",
       "      <th>Flights Booked</th>\n",
       "      <th>Flights with Companions</th>\n",
       "      <th>Total Flights</th>\n",
       "      <th>Distance</th>\n",
       "      <th>Points Accumulated</th>\n",
       "      <th>Points Redeemed</th>\n",
       "      <th>Dollar Cost Points Redeemed</th>\n",
       "    </tr>\n",
       "    <tr>\n",
       "      <th>Loyalty Number</th>\n",
       "      <th></th>\n",
       "      <th></th>\n",
       "      <th></th>\n",
       "      <th></th>\n",
       "      <th></th>\n",
       "      <th></th>\n",
       "      <th></th>\n",
       "      <th></th>\n",
       "      <th></th>\n",
       "    </tr>\n",
       "  </thead>\n",
       "  <tbody>\n",
       "    <tr>\n",
       "      <th>100018</th>\n",
       "      <td>2017</td>\n",
       "      <td>1</td>\n",
       "      <td>3</td>\n",
       "      <td>0</td>\n",
       "      <td>3</td>\n",
       "      <td>1521</td>\n",
       "      <td>152.0</td>\n",
       "      <td>0</td>\n",
       "      <td>0</td>\n",
       "    </tr>\n",
       "    <tr>\n",
       "      <th>100102</th>\n",
       "      <td>2017</td>\n",
       "      <td>1</td>\n",
       "      <td>10</td>\n",
       "      <td>4</td>\n",
       "      <td>14</td>\n",
       "      <td>2030</td>\n",
       "      <td>203.0</td>\n",
       "      <td>0</td>\n",
       "      <td>0</td>\n",
       "    </tr>\n",
       "  </tbody>\n",
       "</table>\n",
       "</div>"
      ],
      "text/plain": [
       "                Year  Month  Flights Booked  Flights with Companions  \\\n",
       "Loyalty Number                                                         \n",
       "100018          2017      1               3                        0   \n",
       "100102          2017      1              10                        4   \n",
       "\n",
       "                Total Flights  Distance  Points Accumulated  Points Redeemed  \\\n",
       "Loyalty Number                                                                 \n",
       "100018                      3      1521               152.0                0   \n",
       "100102                     14      2030               203.0                0   \n",
       "\n",
       "                Dollar Cost Points Redeemed  \n",
       "Loyalty Number                               \n",
       "100018                                    0  \n",
       "100102                                    0  "
      ]
     },
     "execution_count": 10,
     "metadata": {},
     "output_type": "execute_result"
    }
   ],
   "source": [
    "#Ver el head del CSV 1 \n",
    "df1.head(2)"
   ]
  },
  {
   "cell_type": "code",
   "execution_count": 11,
   "metadata": {},
   "outputs": [
    {
     "data": {
      "text/html": [
       "<div>\n",
       "<style scoped>\n",
       "    .dataframe tbody tr th:only-of-type {\n",
       "        vertical-align: middle;\n",
       "    }\n",
       "\n",
       "    .dataframe tbody tr th {\n",
       "        vertical-align: top;\n",
       "    }\n",
       "\n",
       "    .dataframe thead th {\n",
       "        text-align: right;\n",
       "    }\n",
       "</style>\n",
       "<table border=\"1\" class=\"dataframe\">\n",
       "  <thead>\n",
       "    <tr style=\"text-align: right;\">\n",
       "      <th></th>\n",
       "      <th>Country</th>\n",
       "      <th>Province</th>\n",
       "      <th>City</th>\n",
       "      <th>Postal Code</th>\n",
       "      <th>Gender</th>\n",
       "      <th>Education</th>\n",
       "      <th>Salary</th>\n",
       "      <th>Marital Status</th>\n",
       "      <th>Loyalty Card</th>\n",
       "      <th>CLV</th>\n",
       "      <th>Enrollment Type</th>\n",
       "      <th>Enrollment Year</th>\n",
       "      <th>Enrollment Month</th>\n",
       "      <th>Cancellation Year</th>\n",
       "      <th>Cancellation Month</th>\n",
       "    </tr>\n",
       "    <tr>\n",
       "      <th>Loyalty Number</th>\n",
       "      <th></th>\n",
       "      <th></th>\n",
       "      <th></th>\n",
       "      <th></th>\n",
       "      <th></th>\n",
       "      <th></th>\n",
       "      <th></th>\n",
       "      <th></th>\n",
       "      <th></th>\n",
       "      <th></th>\n",
       "      <th></th>\n",
       "      <th></th>\n",
       "      <th></th>\n",
       "      <th></th>\n",
       "      <th></th>\n",
       "    </tr>\n",
       "  </thead>\n",
       "  <tbody>\n",
       "    <tr>\n",
       "      <th>480934</th>\n",
       "      <td>Canada</td>\n",
       "      <td>Ontario</td>\n",
       "      <td>Toronto</td>\n",
       "      <td>M2Z 4K1</td>\n",
       "      <td>Female</td>\n",
       "      <td>Bachelor</td>\n",
       "      <td>83236.0</td>\n",
       "      <td>Married</td>\n",
       "      <td>Star</td>\n",
       "      <td>3839.14</td>\n",
       "      <td>Standard</td>\n",
       "      <td>2016</td>\n",
       "      <td>2</td>\n",
       "      <td>NaN</td>\n",
       "      <td>NaN</td>\n",
       "    </tr>\n",
       "    <tr>\n",
       "      <th>549612</th>\n",
       "      <td>Canada</td>\n",
       "      <td>Alberta</td>\n",
       "      <td>Edmonton</td>\n",
       "      <td>T3G 6Y6</td>\n",
       "      <td>Male</td>\n",
       "      <td>College</td>\n",
       "      <td>NaN</td>\n",
       "      <td>Divorced</td>\n",
       "      <td>Star</td>\n",
       "      <td>3839.61</td>\n",
       "      <td>Standard</td>\n",
       "      <td>2016</td>\n",
       "      <td>3</td>\n",
       "      <td>NaN</td>\n",
       "      <td>NaN</td>\n",
       "    </tr>\n",
       "  </tbody>\n",
       "</table>\n",
       "</div>"
      ],
      "text/plain": [
       "               Country Province      City Postal Code  Gender Education  \\\n",
       "Loyalty Number                                                            \n",
       "480934          Canada  Ontario   Toronto     M2Z 4K1  Female  Bachelor   \n",
       "549612          Canada  Alberta  Edmonton     T3G 6Y6    Male   College   \n",
       "\n",
       "                 Salary Marital Status Loyalty Card      CLV Enrollment Type  \\\n",
       "Loyalty Number                                                                 \n",
       "480934          83236.0        Married         Star  3839.14        Standard   \n",
       "549612              NaN       Divorced         Star  3839.61        Standard   \n",
       "\n",
       "                Enrollment Year  Enrollment Month  Cancellation Year  \\\n",
       "Loyalty Number                                                         \n",
       "480934                     2016                 2                NaN   \n",
       "549612                     2016                 3                NaN   \n",
       "\n",
       "                Cancellation Month  \n",
       "Loyalty Number                      \n",
       "480934                         NaN  \n",
       "549612                         NaN  "
      ]
     },
     "execution_count": 11,
     "metadata": {},
     "output_type": "execute_result"
    }
   ],
   "source": [
    "#Ver el head del CSV 2\n",
    "df2.head(2)"
   ]
  },
  {
   "cell_type": "code",
   "execution_count": 12,
   "metadata": {},
   "outputs": [
    {
     "name": "stdout",
     "output_type": "stream",
     "text": [
      "El número de filas que tenemos es 405624, y el número de columnas es 9\n"
     ]
    }
   ],
   "source": [
    "print(f\"El número de filas que tenemos es {df1.shape[0]}, y el número de columnas es {df1.shape[1]}\")"
   ]
  },
  {
   "cell_type": "code",
   "execution_count": 13,
   "metadata": {},
   "outputs": [
    {
     "name": "stdout",
     "output_type": "stream",
     "text": [
      "El número de filas que tenemos es 16737, y el número de columnas es 15\n"
     ]
    }
   ],
   "source": [
    "print(f\"El número de filas que tenemos es {df2.shape[0]}, y el número de columnas es {df2.shape[1]}\")"
   ]
  },
  {
   "cell_type": "code",
   "execution_count": 14,
   "metadata": {},
   "outputs": [
    {
     "data": {
      "text/html": [
       "<div>\n",
       "<style scoped>\n",
       "    .dataframe tbody tr th:only-of-type {\n",
       "        vertical-align: middle;\n",
       "    }\n",
       "\n",
       "    .dataframe tbody tr th {\n",
       "        vertical-align: top;\n",
       "    }\n",
       "\n",
       "    .dataframe thead th {\n",
       "        text-align: right;\n",
       "    }\n",
       "</style>\n",
       "<table border=\"1\" class=\"dataframe\">\n",
       "  <thead>\n",
       "    <tr style=\"text-align: right;\">\n",
       "      <th></th>\n",
       "      <th>Year</th>\n",
       "      <th>Month</th>\n",
       "      <th>Flights Booked</th>\n",
       "      <th>Flights with Companions</th>\n",
       "      <th>Total Flights</th>\n",
       "      <th>Distance</th>\n",
       "      <th>Points Accumulated</th>\n",
       "      <th>Points Redeemed</th>\n",
       "      <th>Dollar Cost Points Redeemed</th>\n",
       "    </tr>\n",
       "  </thead>\n",
       "  <tbody>\n",
       "    <tr>\n",
       "      <th>count</th>\n",
       "      <td>405624.000000</td>\n",
       "      <td>405624.000000</td>\n",
       "      <td>405624.000000</td>\n",
       "      <td>405624.000000</td>\n",
       "      <td>405624.000000</td>\n",
       "      <td>405624.000000</td>\n",
       "      <td>405624.000000</td>\n",
       "      <td>405624.000000</td>\n",
       "      <td>405624.000000</td>\n",
       "    </tr>\n",
       "    <tr>\n",
       "      <th>mean</th>\n",
       "      <td>2017.500000</td>\n",
       "      <td>6.500000</td>\n",
       "      <td>4.115052</td>\n",
       "      <td>1.031805</td>\n",
       "      <td>5.146858</td>\n",
       "      <td>1208.880059</td>\n",
       "      <td>123.692721</td>\n",
       "      <td>30.696872</td>\n",
       "      <td>2.484503</td>\n",
       "    </tr>\n",
       "    <tr>\n",
       "      <th>std</th>\n",
       "      <td>0.500001</td>\n",
       "      <td>3.452057</td>\n",
       "      <td>5.225518</td>\n",
       "      <td>2.076869</td>\n",
       "      <td>6.521227</td>\n",
       "      <td>1433.155320</td>\n",
       "      <td>146.599831</td>\n",
       "      <td>125.486049</td>\n",
       "      <td>10.150038</td>\n",
       "    </tr>\n",
       "    <tr>\n",
       "      <th>min</th>\n",
       "      <td>2017.000000</td>\n",
       "      <td>1.000000</td>\n",
       "      <td>0.000000</td>\n",
       "      <td>0.000000</td>\n",
       "      <td>0.000000</td>\n",
       "      <td>0.000000</td>\n",
       "      <td>0.000000</td>\n",
       "      <td>0.000000</td>\n",
       "      <td>0.000000</td>\n",
       "    </tr>\n",
       "    <tr>\n",
       "      <th>25%</th>\n",
       "      <td>2017.000000</td>\n",
       "      <td>3.750000</td>\n",
       "      <td>0.000000</td>\n",
       "      <td>0.000000</td>\n",
       "      <td>0.000000</td>\n",
       "      <td>0.000000</td>\n",
       "      <td>0.000000</td>\n",
       "      <td>0.000000</td>\n",
       "      <td>0.000000</td>\n",
       "    </tr>\n",
       "    <tr>\n",
       "      <th>50%</th>\n",
       "      <td>2017.500000</td>\n",
       "      <td>6.500000</td>\n",
       "      <td>1.000000</td>\n",
       "      <td>0.000000</td>\n",
       "      <td>1.000000</td>\n",
       "      <td>488.000000</td>\n",
       "      <td>50.000000</td>\n",
       "      <td>0.000000</td>\n",
       "      <td>0.000000</td>\n",
       "    </tr>\n",
       "    <tr>\n",
       "      <th>75%</th>\n",
       "      <td>2018.000000</td>\n",
       "      <td>9.250000</td>\n",
       "      <td>8.000000</td>\n",
       "      <td>1.000000</td>\n",
       "      <td>10.000000</td>\n",
       "      <td>2336.000000</td>\n",
       "      <td>239.000000</td>\n",
       "      <td>0.000000</td>\n",
       "      <td>0.000000</td>\n",
       "    </tr>\n",
       "    <tr>\n",
       "      <th>max</th>\n",
       "      <td>2018.000000</td>\n",
       "      <td>12.000000</td>\n",
       "      <td>21.000000</td>\n",
       "      <td>11.000000</td>\n",
       "      <td>32.000000</td>\n",
       "      <td>6293.000000</td>\n",
       "      <td>676.500000</td>\n",
       "      <td>876.000000</td>\n",
       "      <td>71.000000</td>\n",
       "    </tr>\n",
       "  </tbody>\n",
       "</table>\n",
       "</div>"
      ],
      "text/plain": [
       "                Year          Month  Flights Booked  Flights with Companions  \\\n",
       "count  405624.000000  405624.000000   405624.000000            405624.000000   \n",
       "mean     2017.500000       6.500000        4.115052                 1.031805   \n",
       "std         0.500001       3.452057        5.225518                 2.076869   \n",
       "min      2017.000000       1.000000        0.000000                 0.000000   \n",
       "25%      2017.000000       3.750000        0.000000                 0.000000   \n",
       "50%      2017.500000       6.500000        1.000000                 0.000000   \n",
       "75%      2018.000000       9.250000        8.000000                 1.000000   \n",
       "max      2018.000000      12.000000       21.000000                11.000000   \n",
       "\n",
       "       Total Flights       Distance  Points Accumulated  Points Redeemed  \\\n",
       "count  405624.000000  405624.000000       405624.000000    405624.000000   \n",
       "mean        5.146858    1208.880059          123.692721        30.696872   \n",
       "std         6.521227    1433.155320          146.599831       125.486049   \n",
       "min         0.000000       0.000000            0.000000         0.000000   \n",
       "25%         0.000000       0.000000            0.000000         0.000000   \n",
       "50%         1.000000     488.000000           50.000000         0.000000   \n",
       "75%        10.000000    2336.000000          239.000000         0.000000   \n",
       "max        32.000000    6293.000000          676.500000       876.000000   \n",
       "\n",
       "       Dollar Cost Points Redeemed  \n",
       "count                405624.000000  \n",
       "mean                      2.484503  \n",
       "std                      10.150038  \n",
       "min                       0.000000  \n",
       "25%                       0.000000  \n",
       "50%                       0.000000  \n",
       "75%                       0.000000  \n",
       "max                      71.000000  "
      ]
     },
     "execution_count": 14,
     "metadata": {},
     "output_type": "execute_result"
    }
   ],
   "source": [
    "df1.describe()"
   ]
  },
  {
   "cell_type": "code",
   "execution_count": 15,
   "metadata": {},
   "outputs": [
    {
     "data": {
      "text/html": [
       "<div>\n",
       "<style scoped>\n",
       "    .dataframe tbody tr th:only-of-type {\n",
       "        vertical-align: middle;\n",
       "    }\n",
       "\n",
       "    .dataframe tbody tr th {\n",
       "        vertical-align: top;\n",
       "    }\n",
       "\n",
       "    .dataframe thead th {\n",
       "        text-align: right;\n",
       "    }\n",
       "</style>\n",
       "<table border=\"1\" class=\"dataframe\">\n",
       "  <thead>\n",
       "    <tr style=\"text-align: right;\">\n",
       "      <th></th>\n",
       "      <th>count</th>\n",
       "      <th>unique</th>\n",
       "      <th>top</th>\n",
       "      <th>freq</th>\n",
       "    </tr>\n",
       "  </thead>\n",
       "  <tbody>\n",
       "    <tr>\n",
       "      <th>Country</th>\n",
       "      <td>16737</td>\n",
       "      <td>1</td>\n",
       "      <td>Canada</td>\n",
       "      <td>16737</td>\n",
       "    </tr>\n",
       "    <tr>\n",
       "      <th>Province</th>\n",
       "      <td>16737</td>\n",
       "      <td>11</td>\n",
       "      <td>Ontario</td>\n",
       "      <td>5404</td>\n",
       "    </tr>\n",
       "    <tr>\n",
       "      <th>City</th>\n",
       "      <td>16737</td>\n",
       "      <td>29</td>\n",
       "      <td>Toronto</td>\n",
       "      <td>3351</td>\n",
       "    </tr>\n",
       "    <tr>\n",
       "      <th>Postal Code</th>\n",
       "      <td>16737</td>\n",
       "      <td>55</td>\n",
       "      <td>V6E 3D9</td>\n",
       "      <td>911</td>\n",
       "    </tr>\n",
       "    <tr>\n",
       "      <th>Gender</th>\n",
       "      <td>16737</td>\n",
       "      <td>2</td>\n",
       "      <td>Female</td>\n",
       "      <td>8410</td>\n",
       "    </tr>\n",
       "    <tr>\n",
       "      <th>Education</th>\n",
       "      <td>16737</td>\n",
       "      <td>5</td>\n",
       "      <td>Bachelor</td>\n",
       "      <td>10475</td>\n",
       "    </tr>\n",
       "    <tr>\n",
       "      <th>Marital Status</th>\n",
       "      <td>16737</td>\n",
       "      <td>3</td>\n",
       "      <td>Married</td>\n",
       "      <td>9735</td>\n",
       "    </tr>\n",
       "    <tr>\n",
       "      <th>Loyalty Card</th>\n",
       "      <td>16737</td>\n",
       "      <td>3</td>\n",
       "      <td>Star</td>\n",
       "      <td>7637</td>\n",
       "    </tr>\n",
       "    <tr>\n",
       "      <th>Enrollment Type</th>\n",
       "      <td>16737</td>\n",
       "      <td>2</td>\n",
       "      <td>Standard</td>\n",
       "      <td>15766</td>\n",
       "    </tr>\n",
       "  </tbody>\n",
       "</table>\n",
       "</div>"
      ],
      "text/plain": [
       "                 count unique       top   freq\n",
       "Country          16737      1    Canada  16737\n",
       "Province         16737     11   Ontario   5404\n",
       "City             16737     29   Toronto   3351\n",
       "Postal Code      16737     55   V6E 3D9    911\n",
       "Gender           16737      2    Female   8410\n",
       "Education        16737      5  Bachelor  10475\n",
       "Marital Status   16737      3   Married   9735\n",
       "Loyalty Card     16737      3      Star   7637\n",
       "Enrollment Type  16737      2  Standard  15766"
      ]
     },
     "execution_count": 15,
     "metadata": {},
     "output_type": "execute_result"
    }
   ],
   "source": [
    "df2.describe(include = \"object\").T"
   ]
  },
  {
   "cell_type": "code",
   "execution_count": 16,
   "metadata": {},
   "outputs": [
    {
     "name": "stdout",
     "output_type": "stream",
     "text": [
      "<class 'pandas.core.frame.DataFrame'>\n",
      "Index: 405624 entries, 100018 to 999986\n",
      "Data columns (total 9 columns):\n",
      " #   Column                       Non-Null Count   Dtype  \n",
      "---  ------                       --------------   -----  \n",
      " 0   Year                         405624 non-null  int64  \n",
      " 1   Month                        405624 non-null  int64  \n",
      " 2   Flights Booked               405624 non-null  int64  \n",
      " 3   Flights with Companions      405624 non-null  int64  \n",
      " 4   Total Flights                405624 non-null  int64  \n",
      " 5   Distance                     405624 non-null  int64  \n",
      " 6   Points Accumulated           405624 non-null  float64\n",
      " 7   Points Redeemed              405624 non-null  int64  \n",
      " 8   Dollar Cost Points Redeemed  405624 non-null  int64  \n",
      "dtypes: float64(1), int64(8)\n",
      "memory usage: 30.9 MB\n"
     ]
    }
   ],
   "source": [
    "df1.info()"
   ]
  },
  {
   "cell_type": "code",
   "execution_count": 17,
   "metadata": {},
   "outputs": [
    {
     "name": "stdout",
     "output_type": "stream",
     "text": [
      "<class 'pandas.core.frame.DataFrame'>\n",
      "Index: 16737 entries, 480934 to 652627\n",
      "Data columns (total 15 columns):\n",
      " #   Column              Non-Null Count  Dtype  \n",
      "---  ------              --------------  -----  \n",
      " 0   Country             16737 non-null  object \n",
      " 1   Province            16737 non-null  object \n",
      " 2   City                16737 non-null  object \n",
      " 3   Postal Code         16737 non-null  object \n",
      " 4   Gender              16737 non-null  object \n",
      " 5   Education           16737 non-null  object \n",
      " 6   Salary              12499 non-null  float64\n",
      " 7   Marital Status      16737 non-null  object \n",
      " 8   Loyalty Card        16737 non-null  object \n",
      " 9   CLV                 16737 non-null  float64\n",
      " 10  Enrollment Type     16737 non-null  object \n",
      " 11  Enrollment Year     16737 non-null  int64  \n",
      " 12  Enrollment Month    16737 non-null  int64  \n",
      " 13  Cancellation Year   2067 non-null   float64\n",
      " 14  Cancellation Month  2067 non-null   float64\n",
      "dtypes: float64(4), int64(2), object(9)\n",
      "memory usage: 2.0+ MB\n"
     ]
    }
   ],
   "source": [
    "df2.info()"
   ]
  },
  {
   "cell_type": "markdown",
   "metadata": {},
   "source": [
    "1.3 Une los dos conjuntos de datos de la forma más eficiente."
   ]
  },
  {
   "cell_type": "code",
   "execution_count": 18,
   "metadata": {},
   "outputs": [],
   "source": [
    "#Unificar los dos CSV \n",
    "df_unido = pd.merge(df1, df2, on='Loyalty Number', how='left').reset_index()"
   ]
  },
  {
   "cell_type": "code",
   "execution_count": 19,
   "metadata": {},
   "outputs": [
    {
     "data": {
      "text/html": [
       "<div>\n",
       "<style scoped>\n",
       "    .dataframe tbody tr th:only-of-type {\n",
       "        vertical-align: middle;\n",
       "    }\n",
       "\n",
       "    .dataframe tbody tr th {\n",
       "        vertical-align: top;\n",
       "    }\n",
       "\n",
       "    .dataframe thead th {\n",
       "        text-align: right;\n",
       "    }\n",
       "</style>\n",
       "<table border=\"1\" class=\"dataframe\">\n",
       "  <thead>\n",
       "    <tr style=\"text-align: right;\">\n",
       "      <th></th>\n",
       "      <th>Loyalty Number</th>\n",
       "      <th>Year</th>\n",
       "      <th>Month</th>\n",
       "      <th>Flights Booked</th>\n",
       "      <th>Flights with Companions</th>\n",
       "      <th>Total Flights</th>\n",
       "      <th>Distance</th>\n",
       "      <th>Points Accumulated</th>\n",
       "      <th>Points Redeemed</th>\n",
       "      <th>Dollar Cost Points Redeemed</th>\n",
       "      <th>Country</th>\n",
       "      <th>Province</th>\n",
       "      <th>City</th>\n",
       "      <th>Postal Code</th>\n",
       "      <th>Gender</th>\n",
       "      <th>Education</th>\n",
       "      <th>Salary</th>\n",
       "      <th>Marital Status</th>\n",
       "      <th>Loyalty Card</th>\n",
       "      <th>CLV</th>\n",
       "      <th>Enrollment Type</th>\n",
       "      <th>Enrollment Year</th>\n",
       "      <th>Enrollment Month</th>\n",
       "      <th>Cancellation Year</th>\n",
       "      <th>Cancellation Month</th>\n",
       "    </tr>\n",
       "  </thead>\n",
       "  <tbody>\n",
       "    <tr>\n",
       "      <th>0</th>\n",
       "      <td>100018</td>\n",
       "      <td>2017</td>\n",
       "      <td>1</td>\n",
       "      <td>3</td>\n",
       "      <td>0</td>\n",
       "      <td>3</td>\n",
       "      <td>1521</td>\n",
       "      <td>152.0</td>\n",
       "      <td>0</td>\n",
       "      <td>0</td>\n",
       "      <td>Canada</td>\n",
       "      <td>Alberta</td>\n",
       "      <td>Edmonton</td>\n",
       "      <td>T9G 1W3</td>\n",
       "      <td>Female</td>\n",
       "      <td>Bachelor</td>\n",
       "      <td>92552.0</td>\n",
       "      <td>Married</td>\n",
       "      <td>Aurora</td>\n",
       "      <td>7919.20</td>\n",
       "      <td>Standard</td>\n",
       "      <td>2016</td>\n",
       "      <td>8</td>\n",
       "      <td>NaN</td>\n",
       "      <td>NaN</td>\n",
       "    </tr>\n",
       "    <tr>\n",
       "      <th>1</th>\n",
       "      <td>100102</td>\n",
       "      <td>2017</td>\n",
       "      <td>1</td>\n",
       "      <td>10</td>\n",
       "      <td>4</td>\n",
       "      <td>14</td>\n",
       "      <td>2030</td>\n",
       "      <td>203.0</td>\n",
       "      <td>0</td>\n",
       "      <td>0</td>\n",
       "      <td>Canada</td>\n",
       "      <td>Ontario</td>\n",
       "      <td>Toronto</td>\n",
       "      <td>M1R 4K3</td>\n",
       "      <td>Male</td>\n",
       "      <td>College</td>\n",
       "      <td>NaN</td>\n",
       "      <td>Single</td>\n",
       "      <td>Nova</td>\n",
       "      <td>2887.74</td>\n",
       "      <td>Standard</td>\n",
       "      <td>2013</td>\n",
       "      <td>3</td>\n",
       "      <td>NaN</td>\n",
       "      <td>NaN</td>\n",
       "    </tr>\n",
       "    <tr>\n",
       "      <th>2</th>\n",
       "      <td>100140</td>\n",
       "      <td>2017</td>\n",
       "      <td>1</td>\n",
       "      <td>6</td>\n",
       "      <td>0</td>\n",
       "      <td>6</td>\n",
       "      <td>1200</td>\n",
       "      <td>120.0</td>\n",
       "      <td>0</td>\n",
       "      <td>0</td>\n",
       "      <td>Canada</td>\n",
       "      <td>British Columbia</td>\n",
       "      <td>Dawson Creek</td>\n",
       "      <td>U5I 4F1</td>\n",
       "      <td>Female</td>\n",
       "      <td>College</td>\n",
       "      <td>NaN</td>\n",
       "      <td>Divorced</td>\n",
       "      <td>Nova</td>\n",
       "      <td>2838.07</td>\n",
       "      <td>Standard</td>\n",
       "      <td>2016</td>\n",
       "      <td>7</td>\n",
       "      <td>NaN</td>\n",
       "      <td>NaN</td>\n",
       "    </tr>\n",
       "    <tr>\n",
       "      <th>3</th>\n",
       "      <td>100214</td>\n",
       "      <td>2017</td>\n",
       "      <td>1</td>\n",
       "      <td>0</td>\n",
       "      <td>0</td>\n",
       "      <td>0</td>\n",
       "      <td>0</td>\n",
       "      <td>0.0</td>\n",
       "      <td>0</td>\n",
       "      <td>0</td>\n",
       "      <td>Canada</td>\n",
       "      <td>British Columbia</td>\n",
       "      <td>Vancouver</td>\n",
       "      <td>V5R 1W3</td>\n",
       "      <td>Male</td>\n",
       "      <td>Bachelor</td>\n",
       "      <td>63253.0</td>\n",
       "      <td>Married</td>\n",
       "      <td>Star</td>\n",
       "      <td>4170.57</td>\n",
       "      <td>Standard</td>\n",
       "      <td>2015</td>\n",
       "      <td>8</td>\n",
       "      <td>NaN</td>\n",
       "      <td>NaN</td>\n",
       "    </tr>\n",
       "    <tr>\n",
       "      <th>4</th>\n",
       "      <td>100272</td>\n",
       "      <td>2017</td>\n",
       "      <td>1</td>\n",
       "      <td>0</td>\n",
       "      <td>0</td>\n",
       "      <td>0</td>\n",
       "      <td>0</td>\n",
       "      <td>0.0</td>\n",
       "      <td>0</td>\n",
       "      <td>0</td>\n",
       "      <td>Canada</td>\n",
       "      <td>Ontario</td>\n",
       "      <td>Toronto</td>\n",
       "      <td>P1L 8X8</td>\n",
       "      <td>Female</td>\n",
       "      <td>Bachelor</td>\n",
       "      <td>91163.0</td>\n",
       "      <td>Divorced</td>\n",
       "      <td>Star</td>\n",
       "      <td>6622.05</td>\n",
       "      <td>Standard</td>\n",
       "      <td>2014</td>\n",
       "      <td>1</td>\n",
       "      <td>NaN</td>\n",
       "      <td>NaN</td>\n",
       "    </tr>\n",
       "  </tbody>\n",
       "</table>\n",
       "</div>"
      ],
      "text/plain": [
       "   Loyalty Number  Year  Month  Flights Booked  Flights with Companions  \\\n",
       "0          100018  2017      1               3                        0   \n",
       "1          100102  2017      1              10                        4   \n",
       "2          100140  2017      1               6                        0   \n",
       "3          100214  2017      1               0                        0   \n",
       "4          100272  2017      1               0                        0   \n",
       "\n",
       "   Total Flights  Distance  Points Accumulated  Points Redeemed  \\\n",
       "0              3      1521               152.0                0   \n",
       "1             14      2030               203.0                0   \n",
       "2              6      1200               120.0                0   \n",
       "3              0         0                 0.0                0   \n",
       "4              0         0                 0.0                0   \n",
       "\n",
       "   Dollar Cost Points Redeemed Country          Province          City  \\\n",
       "0                            0  Canada           Alberta      Edmonton   \n",
       "1                            0  Canada           Ontario       Toronto   \n",
       "2                            0  Canada  British Columbia  Dawson Creek   \n",
       "3                            0  Canada  British Columbia     Vancouver   \n",
       "4                            0  Canada           Ontario       Toronto   \n",
       "\n",
       "  Postal Code  Gender Education   Salary Marital Status Loyalty Card      CLV  \\\n",
       "0     T9G 1W3  Female  Bachelor  92552.0        Married       Aurora  7919.20   \n",
       "1     M1R 4K3    Male   College      NaN         Single         Nova  2887.74   \n",
       "2     U5I 4F1  Female   College      NaN       Divorced         Nova  2838.07   \n",
       "3     V5R 1W3    Male  Bachelor  63253.0        Married         Star  4170.57   \n",
       "4     P1L 8X8  Female  Bachelor  91163.0       Divorced         Star  6622.05   \n",
       "\n",
       "  Enrollment Type  Enrollment Year  Enrollment Month  Cancellation Year  \\\n",
       "0        Standard             2016                 8                NaN   \n",
       "1        Standard             2013                 3                NaN   \n",
       "2        Standard             2016                 7                NaN   \n",
       "3        Standard             2015                 8                NaN   \n",
       "4        Standard             2014                 1                NaN   \n",
       "\n",
       "   Cancellation Month  \n",
       "0                 NaN  \n",
       "1                 NaN  \n",
       "2                 NaN  \n",
       "3                 NaN  \n",
       "4                 NaN  "
      ]
     },
     "execution_count": 19,
     "metadata": {},
     "output_type": "execute_result"
    }
   ],
   "source": [
    "df_unido.head()"
   ]
  },
  {
   "cell_type": "code",
   "execution_count": 20,
   "metadata": {},
   "outputs": [
    {
     "data": {
      "text/plain": [
       "array(['Bachelor', 'College', 'Master', 'High School or Below', 'Doctor'],\n",
       "      dtype=object)"
      ]
     },
     "execution_count": 20,
     "metadata": {},
     "output_type": "execute_result"
    }
   ],
   "source": [
    "df_unido[\"Education\"].unique()"
   ]
  },
  {
   "cell_type": "code",
   "execution_count": 21,
   "metadata": {},
   "outputs": [
    {
     "data": {
      "text/plain": [
       "Education\n",
       "Bachelor                253752\n",
       "College                 102672\n",
       "High School or Below     19008\n",
       "Doctor                   17856\n",
       "Master                   12336\n",
       "Name: count, dtype: int64"
      ]
     },
     "execution_count": 21,
     "metadata": {},
     "output_type": "execute_result"
    }
   ],
   "source": [
    "df_unido[\"Education\"].value_counts()"
   ]
  },
  {
   "cell_type": "code",
   "execution_count": 22,
   "metadata": {},
   "outputs": [
    {
     "data": {
      "text/plain": [
       "array([2017, 2018])"
      ]
     },
     "execution_count": 22,
     "metadata": {},
     "output_type": "execute_result"
    }
   ],
   "source": [
    "df_unido[\"Year\"].unique()"
   ]
  },
  {
   "cell_type": "code",
   "execution_count": 23,
   "metadata": {},
   "outputs": [
    {
     "data": {
      "text/plain": [
       "Year\n",
       "2017    202812\n",
       "2018    202812\n",
       "Name: count, dtype: int64"
      ]
     },
     "execution_count": 23,
     "metadata": {},
     "output_type": "execute_result"
    }
   ],
   "source": [
    "df_unido[\"Year\"].value_counts()"
   ]
  },
  {
   "cell_type": "code",
   "execution_count": 24,
   "metadata": {},
   "outputs": [
    {
     "data": {
      "text/plain": [
       "array([ 3, 10,  6,  0,  8, 11,  9,  4,  7,  5,  2,  1, 12, 13, 14, 16, 15,\n",
       "       17, 18, 19, 20, 21])"
      ]
     },
     "execution_count": 24,
     "metadata": {},
     "output_type": "execute_result"
    }
   ],
   "source": [
    "df_unido[\"Flights Booked\"].unique()"
   ]
  },
  {
   "cell_type": "code",
   "execution_count": 25,
   "metadata": {},
   "outputs": [
    {
     "data": {
      "text/plain": [
       "Flights Booked\n",
       "0     197992\n",
       "3      18228\n",
       "11     15705\n",
       "5      15084\n",
       "7      14561\n",
       "8      14357\n",
       "9      14164\n",
       "6      13847\n",
       "2      13641\n",
       "10     13363\n",
       "4      12821\n",
       "1      12667\n",
       "13     10782\n",
       "12     10382\n",
       "14      7057\n",
       "15      6582\n",
       "16      4354\n",
       "17      3899\n",
       "18      2958\n",
       "19      1496\n",
       "20      1156\n",
       "21       528\n",
       "Name: count, dtype: int64"
      ]
     },
     "execution_count": 25,
     "metadata": {},
     "output_type": "execute_result"
    }
   ],
   "source": [
    "df_unido[\"Flights Booked\"].value_counts()"
   ]
  },
  {
   "cell_type": "code",
   "execution_count": 26,
   "metadata": {},
   "outputs": [
    {
     "data": {
      "text/html": [
       "<div>\n",
       "<style scoped>\n",
       "    .dataframe tbody tr th:only-of-type {\n",
       "        vertical-align: middle;\n",
       "    }\n",
       "\n",
       "    .dataframe tbody tr th {\n",
       "        vertical-align: top;\n",
       "    }\n",
       "\n",
       "    .dataframe thead th {\n",
       "        text-align: right;\n",
       "    }\n",
       "</style>\n",
       "<table border=\"1\" class=\"dataframe\">\n",
       "  <thead>\n",
       "    <tr style=\"text-align: right;\">\n",
       "      <th></th>\n",
       "      <th>Loyalty Number</th>\n",
       "      <th>Year</th>\n",
       "      <th>Month</th>\n",
       "      <th>Flights Booked</th>\n",
       "      <th>Flights with Companions</th>\n",
       "      <th>Total Flights</th>\n",
       "      <th>Distance</th>\n",
       "      <th>Points Accumulated</th>\n",
       "      <th>Points Redeemed</th>\n",
       "      <th>Dollar Cost Points Redeemed</th>\n",
       "      <th>Country</th>\n",
       "      <th>Province</th>\n",
       "      <th>City</th>\n",
       "      <th>Postal Code</th>\n",
       "      <th>Gender</th>\n",
       "      <th>Education</th>\n",
       "      <th>Salary</th>\n",
       "      <th>Marital Status</th>\n",
       "      <th>Loyalty Card</th>\n",
       "      <th>CLV</th>\n",
       "      <th>Enrollment Type</th>\n",
       "      <th>Enrollment Year</th>\n",
       "      <th>Enrollment Month</th>\n",
       "      <th>Cancellation Year</th>\n",
       "      <th>Cancellation Month</th>\n",
       "    </tr>\n",
       "  </thead>\n",
       "  <tbody>\n",
       "    <tr>\n",
       "      <th>0</th>\n",
       "      <td>100018</td>\n",
       "      <td>2017</td>\n",
       "      <td>1</td>\n",
       "      <td>3</td>\n",
       "      <td>0</td>\n",
       "      <td>3</td>\n",
       "      <td>1521</td>\n",
       "      <td>152.0</td>\n",
       "      <td>0</td>\n",
       "      <td>0</td>\n",
       "      <td>Canada</td>\n",
       "      <td>Alberta</td>\n",
       "      <td>Edmonton</td>\n",
       "      <td>T9G 1W3</td>\n",
       "      <td>Female</td>\n",
       "      <td>Bachelor</td>\n",
       "      <td>92552.0</td>\n",
       "      <td>Married</td>\n",
       "      <td>Aurora</td>\n",
       "      <td>7919.2</td>\n",
       "      <td>Standard</td>\n",
       "      <td>2016</td>\n",
       "      <td>8</td>\n",
       "      <td>NaN</td>\n",
       "      <td>NaN</td>\n",
       "    </tr>\n",
       "  </tbody>\n",
       "</table>\n",
       "</div>"
      ],
      "text/plain": [
       "   Loyalty Number  Year  Month  Flights Booked  Flights with Companions  \\\n",
       "0          100018  2017      1               3                        0   \n",
       "\n",
       "   Total Flights  Distance  Points Accumulated  Points Redeemed  \\\n",
       "0              3      1521               152.0                0   \n",
       "\n",
       "   Dollar Cost Points Redeemed Country Province      City Postal Code  Gender  \\\n",
       "0                            0  Canada  Alberta  Edmonton     T9G 1W3  Female   \n",
       "\n",
       "  Education   Salary Marital Status Loyalty Card     CLV Enrollment Type  \\\n",
       "0  Bachelor  92552.0        Married       Aurora  7919.2        Standard   \n",
       "\n",
       "   Enrollment Year  Enrollment Month  Cancellation Year  Cancellation Month  \n",
       "0             2016                 8                NaN                 NaN  "
      ]
     },
     "execution_count": 26,
     "metadata": {},
     "output_type": "execute_result"
    }
   ],
   "source": [
    "df_unido.head(1)"
   ]
  },
  {
   "cell_type": "code",
   "execution_count": 27,
   "metadata": {},
   "outputs": [
    {
     "data": {
      "text/plain": [
       "array([ 3, 10,  6,  0,  8, 11,  9,  4,  7,  5,  2,  1, 12, 13, 14, 16, 15,\n",
       "       17, 18, 19, 20, 21])"
      ]
     },
     "execution_count": 27,
     "metadata": {},
     "output_type": "execute_result"
    }
   ],
   "source": [
    "df_unido[\"Flights Booked\"].unique()"
   ]
  },
  {
   "cell_type": "code",
   "execution_count": 28,
   "metadata": {},
   "outputs": [
    {
     "data": {
      "text/html": [
       "<div>\n",
       "<style scoped>\n",
       "    .dataframe tbody tr th:only-of-type {\n",
       "        vertical-align: middle;\n",
       "    }\n",
       "\n",
       "    .dataframe tbody tr th {\n",
       "        vertical-align: top;\n",
       "    }\n",
       "\n",
       "    .dataframe thead th {\n",
       "        text-align: right;\n",
       "    }\n",
       "</style>\n",
       "<table border=\"1\" class=\"dataframe\">\n",
       "  <thead>\n",
       "    <tr style=\"text-align: right;\">\n",
       "      <th></th>\n",
       "      <th>Country</th>\n",
       "      <th>Province</th>\n",
       "      <th>City</th>\n",
       "      <th>Postal Code</th>\n",
       "      <th>Gender</th>\n",
       "      <th>Education</th>\n",
       "      <th>Marital Status</th>\n",
       "      <th>Loyalty Card</th>\n",
       "      <th>Enrollment Type</th>\n",
       "    </tr>\n",
       "  </thead>\n",
       "  <tbody>\n",
       "    <tr>\n",
       "      <th>0</th>\n",
       "      <td>Canada</td>\n",
       "      <td>Alberta</td>\n",
       "      <td>Edmonton</td>\n",
       "      <td>T9G 1W3</td>\n",
       "      <td>Female</td>\n",
       "      <td>Bachelor</td>\n",
       "      <td>Married</td>\n",
       "      <td>Aurora</td>\n",
       "      <td>Standard</td>\n",
       "    </tr>\n",
       "    <tr>\n",
       "      <th>1</th>\n",
       "      <td>Canada</td>\n",
       "      <td>Ontario</td>\n",
       "      <td>Toronto</td>\n",
       "      <td>M1R 4K3</td>\n",
       "      <td>Male</td>\n",
       "      <td>College</td>\n",
       "      <td>Single</td>\n",
       "      <td>Nova</td>\n",
       "      <td>Standard</td>\n",
       "    </tr>\n",
       "    <tr>\n",
       "      <th>2</th>\n",
       "      <td>Canada</td>\n",
       "      <td>British Columbia</td>\n",
       "      <td>Dawson Creek</td>\n",
       "      <td>U5I 4F1</td>\n",
       "      <td>Female</td>\n",
       "      <td>College</td>\n",
       "      <td>Divorced</td>\n",
       "      <td>Nova</td>\n",
       "      <td>Standard</td>\n",
       "    </tr>\n",
       "    <tr>\n",
       "      <th>3</th>\n",
       "      <td>Canada</td>\n",
       "      <td>British Columbia</td>\n",
       "      <td>Vancouver</td>\n",
       "      <td>V5R 1W3</td>\n",
       "      <td>Male</td>\n",
       "      <td>Bachelor</td>\n",
       "      <td>Married</td>\n",
       "      <td>Star</td>\n",
       "      <td>Standard</td>\n",
       "    </tr>\n",
       "    <tr>\n",
       "      <th>4</th>\n",
       "      <td>Canada</td>\n",
       "      <td>Ontario</td>\n",
       "      <td>Toronto</td>\n",
       "      <td>P1L 8X8</td>\n",
       "      <td>Female</td>\n",
       "      <td>Bachelor</td>\n",
       "      <td>Divorced</td>\n",
       "      <td>Star</td>\n",
       "      <td>Standard</td>\n",
       "    </tr>\n",
       "  </tbody>\n",
       "</table>\n",
       "</div>"
      ],
      "text/plain": [
       "  Country          Province          City Postal Code  Gender Education  \\\n",
       "0  Canada           Alberta      Edmonton     T9G 1W3  Female  Bachelor   \n",
       "1  Canada           Ontario       Toronto     M1R 4K3    Male   College   \n",
       "2  Canada  British Columbia  Dawson Creek     U5I 4F1  Female   College   \n",
       "3  Canada  British Columbia     Vancouver     V5R 1W3    Male  Bachelor   \n",
       "4  Canada           Ontario       Toronto     P1L 8X8  Female  Bachelor   \n",
       "\n",
       "  Marital Status Loyalty Card Enrollment Type  \n",
       "0        Married       Aurora        Standard  \n",
       "1         Single         Nova        Standard  \n",
       "2       Divorced         Nova        Standard  \n",
       "3        Married         Star        Standard  \n",
       "4       Divorced         Star        Standard  "
      ]
     },
     "execution_count": 28,
     "metadata": {},
     "output_type": "execute_result"
    }
   ],
   "source": [
    "# sacamos las columnas que son de tipo object (categóricas) de nuestro DataFrame usando el método '.select_dtypes()'\n",
    "df_cat = df_unido.select_dtypes(include = \"object\")\n",
    "df_cat.head()"
   ]
  },
  {
   "cell_type": "code",
   "execution_count": 29,
   "metadata": {},
   "outputs": [
    {
     "data": {
      "text/plain": [
       "Index(['Country', 'Province', 'City', 'Postal Code', 'Gender', 'Education',\n",
       "       'Marital Status', 'Loyalty Card', 'Enrollment Type'],\n",
       "      dtype='object')"
      ]
     },
     "execution_count": 29,
     "metadata": {},
     "output_type": "execute_result"
    }
   ],
   "source": [
    "df_cat.columns"
   ]
  },
  {
   "cell_type": "code",
   "execution_count": 30,
   "metadata": {},
   "outputs": [
    {
     "name": "stdout",
     "output_type": "stream",
     "text": [
      "Las columnas del DataFrame de variables categóricas son Index(['Country', 'Province', 'City', 'Postal Code', 'Gender', 'Education',\n",
      "       'Marital Status', 'Loyalty Card', 'Enrollment Type'],\n",
      "      dtype='object')\n",
      " \n",
      "----------- ESTAMOS ANALIZANDO LA COLUMNA: 'COUNTRY' -----------\n",
      "\n",
      "Sus valores únicos son: ['Canada']\n",
      "\n",
      "Las frecuencias de los valores únicos de las categorías son: Country\n",
      "Canada    405624\n",
      "Name: count, dtype: int64 \n",
      "Cantidad de valores nulos: 0\n",
      " \n",
      "----------- ESTAMOS ANALIZANDO LA COLUMNA: 'PROVINCE' -----------\n",
      "\n",
      "Sus valores únicos son: ['Alberta' 'Ontario' 'British Columbia' 'Saskatchewan' 'Quebec'\n",
      " 'Newfoundland' 'Manitoba' 'New Brunswick' 'Nova Scotia'\n",
      " 'Prince Edward Island' 'Yukon']\n",
      "\n",
      "Las frecuencias de los valores únicos de las categorías son: Province\n",
      "Ontario                 130896\n",
      "British Columbia        106848\n",
      "Quebec                   79968\n",
      "Alberta                  23400\n",
      "Manitoba                 15984\n",
      "New Brunswick            15432\n",
      "Nova Scotia              12576\n",
      "Saskatchewan              9936\n",
      "Newfoundland              6312\n",
      "Yukon                     2688\n",
      "Prince Edward Island      1584\n",
      "Name: count, dtype: int64 \n",
      "Cantidad de valores nulos: 0\n",
      " \n",
      "----------- ESTAMOS ANALIZANDO LA COLUMNA: 'CITY' -----------\n",
      "\n",
      "Sus valores únicos son: ['Edmonton' 'Toronto' 'Dawson Creek' 'Vancouver' 'Regina' 'Montreal'\n",
      " 'Sudbury' 'Quebec City' 'Peace River' \"St. John's\" 'Tremblant' 'Ottawa'\n",
      " 'Trenton' 'Winnipeg' 'Thunder Bay' 'West Vancouver' 'Fredericton'\n",
      " 'London' 'Halifax' 'Moncton' 'Banff' 'Kingston' 'Whistler'\n",
      " 'Charlottetown' 'Hull' 'Victoria' 'Calgary' 'Kelowna' 'Whitehorse']\n",
      "\n",
      "Las frecuencias de los valores únicos de las categorías son: City\n",
      "Toronto           81096\n",
      "Vancouver         62520\n",
      "Montreal          49920\n",
      "Winnipeg          15984\n",
      "Whistler          14040\n",
      "Halifax           12576\n",
      "Ottawa            12312\n",
      "Edmonton          11808\n",
      "Trenton           11760\n",
      "Quebec City       11760\n",
      "Dawson Creek      10776\n",
      "Fredericton       10344\n",
      "Regina             9936\n",
      "Kingston           9720\n",
      "Tremblant          9600\n",
      "Victoria           9504\n",
      "Hull               8688\n",
      "West Vancouver     7872\n",
      "St. John's         6312\n",
      "Thunder Bay        6264\n",
      "Sudbury            5520\n",
      "Moncton            5088\n",
      "Calgary            4584\n",
      "Banff              4296\n",
      "London             4224\n",
      "Peace River        2712\n",
      "Whitehorse         2688\n",
      "Kelowna            2136\n",
      "Charlottetown      1584\n",
      "Name: count, dtype: int64 \n",
      "Cantidad de valores nulos: 0\n",
      " \n",
      "----------- ESTAMOS ANALIZANDO LA COLUMNA: 'POSTAL CODE' -----------\n",
      "\n",
      "Sus valores únicos son: ['T9G 1W3' 'M1R 4K3' 'U5I 4F1' 'V5R 1W3' 'P1L 8X8' 'P1J 8T7' 'S6J 3G0'\n",
      " 'H2T 9K8' 'V6E 3D9' 'M5V 1G5' 'H2Y 4R4' 'M8Y 4K8' 'V6E 3Z3' 'G1B 3L5'\n",
      " 'T9O 2W2' 'A1C 6H9' 'H5Y 2S9' 'K1F 2R2' 'K8V 4B2' 'R3R 3T4' 'P1W 1K4'\n",
      " 'K8T 5M5' 'V6V 8Z3' 'M2M 7K8' 'E3B 2H2' 'M5B 3E4' 'H2Y 2W2' 'P5S 6R4'\n",
      " 'P2T 6G3' 'B3J 9S2' 'B3C 2M8' 'H4G 3T4' 'R6Y 4T5' 'H2T 2J6' 'M2Z 4K1'\n",
      " 'S1J 3C5' 'E1A 2A7' 'V1E 4R6' 'T4V 1D4' 'M9K 2P4' 'R2C 0M5' 'T3G 6Y6'\n",
      " 'M2M 6J7' 'V6T 1Y8' 'C1A 6E8' 'J8Y 3Z5' 'V10 6T5' 'H3T 8L4' 'T3E 2V9'\n",
      " 'V09 2E9' 'Y2K 6R0' 'K1G 4Z0' 'M2P 4F6' 'M3R 4K8' 'H3J 5I6']\n",
      "\n",
      "Las frecuencias de los valores únicos de las categorías son: Postal Code\n",
      "V6E 3D9    21984\n",
      "V5R 1W3    16608\n",
      "V6T 1Y8    14040\n",
      "V6E 3Z3    13200\n",
      "M2M 7K8    12936\n",
      "P1J 8T7    12168\n",
      "H2T 9K8    12024\n",
      "G1B 3L5    11760\n",
      "K8V 4B2    11760\n",
      "H2T 2J6    10800\n",
      "U5I 4F1    10776\n",
      "V1E 4R6    10728\n",
      "E3B 2H2    10344\n",
      "R2C 0M5    10104\n",
      "M9K 2P4     9720\n",
      "H5Y 2S9     9600\n",
      "V10 6T5     9504\n",
      "K1F 2R2     9408\n",
      "H2Y 2W2     8880\n",
      "J8Y 3Z5     8688\n",
      "M8Y 4K8     8256\n",
      "H4G 3T4     8208\n",
      "B3J 9S2     8016\n",
      "V6V 8Z3     7872\n",
      "P2T 6G3     7800\n",
      "H2Y 4R4     7656\n",
      "M1R 4K3     7536\n",
      "P1L 8X8     6792\n",
      "P1W 1K4     6624\n",
      "T9G 1W3     6456\n",
      "A1C 6H9     6312\n",
      "K8T 5M5     6264\n",
      "M2Z 4K1     6192\n",
      "P5S 6R4     5976\n",
      "M5V 1G5     5520\n",
      "S6J 3G0     5472\n",
      "T3G 6Y6     5352\n",
      "E1A 2A7     5088\n",
      "T3E 2V9     4584\n",
      "B3C 2M8     4560\n",
      "S1J 3C5     4464\n",
      "T4V 1D4     4296\n",
      "M5B 3E4     4224\n",
      "M2M 6J7     3696\n",
      "R6Y 4T5     3480\n",
      "M2P 4F6     3048\n",
      "K1G 4Z0     2904\n",
      "T9O 2W2     2712\n",
      "Y2K 6R0     2688\n",
      "R3R 3T4     2400\n",
      "H3T 8L4     2184\n",
      "V09 2E9     2136\n",
      "C1A 6E8     1584\n",
      "H3J 5I6      168\n",
      "M3R 4K8       72\n",
      "Name: count, dtype: int64 \n",
      "Cantidad de valores nulos: 0\n",
      " \n",
      "----------- ESTAMOS ANALIZANDO LA COLUMNA: 'GENDER' -----------\n",
      "\n",
      "Sus valores únicos son: ['Female' 'Male']\n",
      "\n",
      "Las frecuencias de los valores únicos de las categorías son: Gender\n",
      "Female    203640\n",
      "Male      201984\n",
      "Name: count, dtype: int64 \n",
      "Cantidad de valores nulos: 0\n",
      " \n",
      "----------- ESTAMOS ANALIZANDO LA COLUMNA: 'EDUCATION' -----------\n",
      "\n",
      "Sus valores únicos son: ['Bachelor' 'College' 'Master' 'High School or Below' 'Doctor']\n",
      "\n",
      "Las frecuencias de los valores únicos de las categorías son: Education\n",
      "Bachelor                253752\n",
      "College                 102672\n",
      "High School or Below     19008\n",
      "Doctor                   17856\n",
      "Master                   12336\n",
      "Name: count, dtype: int64 \n",
      "Cantidad de valores nulos: 0\n",
      " \n",
      "----------- ESTAMOS ANALIZANDO LA COLUMNA: 'MARITAL STATUS' -----------\n",
      "\n",
      "Sus valores únicos son: ['Married' 'Single' 'Divorced']\n",
      "\n",
      "Las frecuencias de los valores únicos de las categorías son: Marital Status\n",
      "Married     235800\n",
      "Single      108648\n",
      "Divorced     61176\n",
      "Name: count, dtype: int64 \n",
      "Cantidad de valores nulos: 0\n",
      " \n",
      "----------- ESTAMOS ANALIZANDO LA COLUMNA: 'LOYALTY CARD' -----------\n",
      "\n",
      "Sus valores únicos son: ['Aurora' 'Nova' 'Star']\n",
      "\n",
      "Las frecuencias de los valores únicos de las categorías son: Loyalty Card\n",
      "Star      184224\n",
      "Nova      137568\n",
      "Aurora     83832\n",
      "Name: count, dtype: int64 \n",
      "Cantidad de valores nulos: 0\n",
      " \n",
      "----------- ESTAMOS ANALIZANDO LA COLUMNA: 'ENROLLMENT TYPE' -----------\n",
      "\n",
      "Sus valores únicos son: ['Standard' '2018 Promotion']\n",
      "\n",
      "Las frecuencias de los valores únicos de las categorías son: Enrollment Type\n",
      "Standard          382200\n",
      "2018 Promotion     23424\n",
      "Name: count, dtype: int64 \n",
      "Cantidad de valores nulos: 0\n"
     ]
    }
   ],
   "source": [
    "# creamos una variable con los nombres de las columnas del DataFrame de las variables categóricas utilizando el método '.columns'\n",
    "columnas_cat = df_cat.columns\n",
    "print(f\"Las columnas del DataFrame de variables categóricas son {columnas_cat}\")\n",
    "\n",
    "# empezamos a iterar por cada una de las columnas para sacar sus valores únicos y sus frecuencias\n",
    "for columna in columnas_cat:\n",
    "    print(f\" \\n----------- ESTAMOS ANALIZANDO LA COLUMNA: '{columna.upper()}' -----------\\n\")\n",
    "    print(f\"Sus valores únicos son: {df_cat[columna].unique()}\\n\")\n",
    "    print(f\"Las frecuencias de los valores únicos de las categorías son: {df_cat[columna].value_counts()} \")\n",
    "    print(f\"Cantidad de valores nulos: {df_cat[columna].isna().sum()}\")"
   ]
  },
  {
   "cell_type": "code",
   "execution_count": 31,
   "metadata": {},
   "outputs": [
    {
     "data": {
      "text/plain": [
       "np.int64(1864)"
      ]
     },
     "execution_count": 31,
     "metadata": {},
     "output_type": "execute_result"
    }
   ],
   "source": [
    "# Código nos esta diciendo que tenemos filas duplicadas. 1864.\n",
    "df_unido.duplicated().sum()"
   ]
  },
  {
   "cell_type": "code",
   "execution_count": 32,
   "metadata": {},
   "outputs": [
    {
     "data": {
      "text/plain": [
       "Index(['Loyalty Number', 'Year', 'Month', 'Flights Booked',\n",
       "       'Flights with Companions', 'Total Flights', 'Distance',\n",
       "       'Points Accumulated', 'Points Redeemed', 'Dollar Cost Points Redeemed',\n",
       "       'Country', 'Province', 'City', 'Postal Code', 'Gender', 'Education',\n",
       "       'Salary', 'Marital Status', 'Loyalty Card', 'CLV', 'Enrollment Type',\n",
       "       'Enrollment Year', 'Enrollment Month', 'Cancellation Year',\n",
       "       'Cancellation Month'],\n",
       "      dtype='object')"
      ]
     },
     "execution_count": 32,
     "metadata": {},
     "output_type": "execute_result"
    }
   ],
   "source": [
    "df_unido.columns"
   ]
  },
  {
   "cell_type": "code",
   "execution_count": 33,
   "metadata": {},
   "outputs": [
    {
     "data": {
      "text/html": [
       "<div>\n",
       "<style scoped>\n",
       "    .dataframe tbody tr th:only-of-type {\n",
       "        vertical-align: middle;\n",
       "    }\n",
       "\n",
       "    .dataframe tbody tr th {\n",
       "        vertical-align: top;\n",
       "    }\n",
       "\n",
       "    .dataframe thead th {\n",
       "        text-align: right;\n",
       "    }\n",
       "</style>\n",
       "<table border=\"1\" class=\"dataframe\">\n",
       "  <thead>\n",
       "    <tr style=\"text-align: right;\">\n",
       "      <th></th>\n",
       "      <th>Loyalty Number</th>\n",
       "      <th>Year</th>\n",
       "      <th>Month</th>\n",
       "      <th>Flights Booked</th>\n",
       "      <th>Flights with Companions</th>\n",
       "      <th>Total Flights</th>\n",
       "      <th>Distance</th>\n",
       "      <th>Points Accumulated</th>\n",
       "      <th>Points Redeemed</th>\n",
       "      <th>Dollar Cost Points Redeemed</th>\n",
       "      <th>Salary</th>\n",
       "      <th>CLV</th>\n",
       "      <th>Enrollment Year</th>\n",
       "      <th>Enrollment Month</th>\n",
       "      <th>Cancellation Year</th>\n",
       "      <th>Cancellation Month</th>\n",
       "    </tr>\n",
       "  </thead>\n",
       "  <tbody>\n",
       "    <tr>\n",
       "      <th>count</th>\n",
       "      <td>405624.000000</td>\n",
       "      <td>405624.000000</td>\n",
       "      <td>405624.000000</td>\n",
       "      <td>405624.000000</td>\n",
       "      <td>405624.000000</td>\n",
       "      <td>405624.000000</td>\n",
       "      <td>405624.000000</td>\n",
       "      <td>405624.000000</td>\n",
       "      <td>405624.000000</td>\n",
       "      <td>405624.000000</td>\n",
       "      <td>302952.000000</td>\n",
       "      <td>405624.000000</td>\n",
       "      <td>405624.000000</td>\n",
       "      <td>405624.000000</td>\n",
       "      <td>50064.000000</td>\n",
       "      <td>50064.000000</td>\n",
       "    </tr>\n",
       "    <tr>\n",
       "      <th>mean</th>\n",
       "      <td>550037.873084</td>\n",
       "      <td>2017.500000</td>\n",
       "      <td>6.500000</td>\n",
       "      <td>4.115052</td>\n",
       "      <td>1.031805</td>\n",
       "      <td>5.146858</td>\n",
       "      <td>1208.880059</td>\n",
       "      <td>123.692721</td>\n",
       "      <td>30.696872</td>\n",
       "      <td>2.484503</td>\n",
       "      <td>79268.825953</td>\n",
       "      <td>7991.976226</td>\n",
       "      <td>2015.252529</td>\n",
       "      <td>6.668008</td>\n",
       "      <td>2016.499521</td>\n",
       "      <td>6.966443</td>\n",
       "    </tr>\n",
       "    <tr>\n",
       "      <th>std</th>\n",
       "      <td>258935.286969</td>\n",
       "      <td>0.500001</td>\n",
       "      <td>3.452057</td>\n",
       "      <td>5.225518</td>\n",
       "      <td>2.076869</td>\n",
       "      <td>6.521227</td>\n",
       "      <td>1433.155320</td>\n",
       "      <td>146.599831</td>\n",
       "      <td>125.486049</td>\n",
       "      <td>10.150038</td>\n",
       "      <td>34992.133508</td>\n",
       "      <td>6863.663857</td>\n",
       "      <td>1.979427</td>\n",
       "      <td>3.399766</td>\n",
       "      <td>1.384336</td>\n",
       "      <td>3.448300</td>\n",
       "    </tr>\n",
       "    <tr>\n",
       "      <th>min</th>\n",
       "      <td>100018.000000</td>\n",
       "      <td>2017.000000</td>\n",
       "      <td>1.000000</td>\n",
       "      <td>0.000000</td>\n",
       "      <td>0.000000</td>\n",
       "      <td>0.000000</td>\n",
       "      <td>0.000000</td>\n",
       "      <td>0.000000</td>\n",
       "      <td>0.000000</td>\n",
       "      <td>0.000000</td>\n",
       "      <td>-58486.000000</td>\n",
       "      <td>1898.010000</td>\n",
       "      <td>2012.000000</td>\n",
       "      <td>1.000000</td>\n",
       "      <td>2013.000000</td>\n",
       "      <td>1.000000</td>\n",
       "    </tr>\n",
       "    <tr>\n",
       "      <th>25%</th>\n",
       "      <td>326961.000000</td>\n",
       "      <td>2017.000000</td>\n",
       "      <td>3.750000</td>\n",
       "      <td>0.000000</td>\n",
       "      <td>0.000000</td>\n",
       "      <td>0.000000</td>\n",
       "      <td>0.000000</td>\n",
       "      <td>0.000000</td>\n",
       "      <td>0.000000</td>\n",
       "      <td>0.000000</td>\n",
       "      <td>59262.000000</td>\n",
       "      <td>3985.320000</td>\n",
       "      <td>2014.000000</td>\n",
       "      <td>4.000000</td>\n",
       "      <td>2016.000000</td>\n",
       "      <td>4.000000</td>\n",
       "    </tr>\n",
       "    <tr>\n",
       "      <th>50%</th>\n",
       "      <td>550834.000000</td>\n",
       "      <td>2017.500000</td>\n",
       "      <td>6.500000</td>\n",
       "      <td>1.000000</td>\n",
       "      <td>0.000000</td>\n",
       "      <td>1.000000</td>\n",
       "      <td>488.000000</td>\n",
       "      <td>50.000000</td>\n",
       "      <td>0.000000</td>\n",
       "      <td>0.000000</td>\n",
       "      <td>73479.000000</td>\n",
       "      <td>5776.340000</td>\n",
       "      <td>2015.000000</td>\n",
       "      <td>7.000000</td>\n",
       "      <td>2017.000000</td>\n",
       "      <td>7.000000</td>\n",
       "    </tr>\n",
       "    <tr>\n",
       "      <th>75%</th>\n",
       "      <td>772194.000000</td>\n",
       "      <td>2018.000000</td>\n",
       "      <td>9.250000</td>\n",
       "      <td>8.000000</td>\n",
       "      <td>1.000000</td>\n",
       "      <td>10.000000</td>\n",
       "      <td>2336.000000</td>\n",
       "      <td>239.000000</td>\n",
       "      <td>0.000000</td>\n",
       "      <td>0.000000</td>\n",
       "      <td>88612.000000</td>\n",
       "      <td>8936.820000</td>\n",
       "      <td>2017.000000</td>\n",
       "      <td>10.000000</td>\n",
       "      <td>2018.000000</td>\n",
       "      <td>10.000000</td>\n",
       "    </tr>\n",
       "    <tr>\n",
       "      <th>max</th>\n",
       "      <td>999986.000000</td>\n",
       "      <td>2018.000000</td>\n",
       "      <td>12.000000</td>\n",
       "      <td>21.000000</td>\n",
       "      <td>11.000000</td>\n",
       "      <td>32.000000</td>\n",
       "      <td>6293.000000</td>\n",
       "      <td>676.500000</td>\n",
       "      <td>876.000000</td>\n",
       "      <td>71.000000</td>\n",
       "      <td>407228.000000</td>\n",
       "      <td>83325.380000</td>\n",
       "      <td>2018.000000</td>\n",
       "      <td>12.000000</td>\n",
       "      <td>2018.000000</td>\n",
       "      <td>12.000000</td>\n",
       "    </tr>\n",
       "  </tbody>\n",
       "</table>\n",
       "</div>"
      ],
      "text/plain": [
       "       Loyalty Number           Year          Month  Flights Booked  \\\n",
       "count   405624.000000  405624.000000  405624.000000   405624.000000   \n",
       "mean    550037.873084    2017.500000       6.500000        4.115052   \n",
       "std     258935.286969       0.500001       3.452057        5.225518   \n",
       "min     100018.000000    2017.000000       1.000000        0.000000   \n",
       "25%     326961.000000    2017.000000       3.750000        0.000000   \n",
       "50%     550834.000000    2017.500000       6.500000        1.000000   \n",
       "75%     772194.000000    2018.000000       9.250000        8.000000   \n",
       "max     999986.000000    2018.000000      12.000000       21.000000   \n",
       "\n",
       "       Flights with Companions  Total Flights       Distance  \\\n",
       "count            405624.000000  405624.000000  405624.000000   \n",
       "mean                  1.031805       5.146858    1208.880059   \n",
       "std                   2.076869       6.521227    1433.155320   \n",
       "min                   0.000000       0.000000       0.000000   \n",
       "25%                   0.000000       0.000000       0.000000   \n",
       "50%                   0.000000       1.000000     488.000000   \n",
       "75%                   1.000000      10.000000    2336.000000   \n",
       "max                  11.000000      32.000000    6293.000000   \n",
       "\n",
       "       Points Accumulated  Points Redeemed  Dollar Cost Points Redeemed  \\\n",
       "count       405624.000000    405624.000000                405624.000000   \n",
       "mean           123.692721        30.696872                     2.484503   \n",
       "std            146.599831       125.486049                    10.150038   \n",
       "min              0.000000         0.000000                     0.000000   \n",
       "25%              0.000000         0.000000                     0.000000   \n",
       "50%             50.000000         0.000000                     0.000000   \n",
       "75%            239.000000         0.000000                     0.000000   \n",
       "max            676.500000       876.000000                    71.000000   \n",
       "\n",
       "              Salary            CLV  Enrollment Year  Enrollment Month  \\\n",
       "count  302952.000000  405624.000000    405624.000000     405624.000000   \n",
       "mean    79268.825953    7991.976226      2015.252529          6.668008   \n",
       "std     34992.133508    6863.663857         1.979427          3.399766   \n",
       "min    -58486.000000    1898.010000      2012.000000          1.000000   \n",
       "25%     59262.000000    3985.320000      2014.000000          4.000000   \n",
       "50%     73479.000000    5776.340000      2015.000000          7.000000   \n",
       "75%     88612.000000    8936.820000      2017.000000         10.000000   \n",
       "max    407228.000000   83325.380000      2018.000000         12.000000   \n",
       "\n",
       "       Cancellation Year  Cancellation Month  \n",
       "count       50064.000000        50064.000000  \n",
       "mean         2016.499521            6.966443  \n",
       "std             1.384336            3.448300  \n",
       "min          2013.000000            1.000000  \n",
       "25%          2016.000000            4.000000  \n",
       "50%          2017.000000            7.000000  \n",
       "75%          2018.000000           10.000000  \n",
       "max          2018.000000           12.000000  "
      ]
     },
     "execution_count": 33,
     "metadata": {},
     "output_type": "execute_result"
    }
   ],
   "source": [
    "df_unido.describe()"
   ]
  },
  {
   "cell_type": "code",
   "execution_count": 34,
   "metadata": {},
   "outputs": [
    {
     "data": {
      "text/plain": [
       "Loyalty Number                   int64\n",
       "Year                             int64\n",
       "Month                            int64\n",
       "Flights Booked                   int64\n",
       "Flights with Companions          int64\n",
       "Total Flights                    int64\n",
       "Distance                         int64\n",
       "Points Accumulated             float64\n",
       "Points Redeemed                  int64\n",
       "Dollar Cost Points Redeemed      int64\n",
       "Country                         object\n",
       "Province                        object\n",
       "City                            object\n",
       "Postal Code                     object\n",
       "Gender                          object\n",
       "Education                       object\n",
       "Salary                         float64\n",
       "Marital Status                  object\n",
       "Loyalty Card                    object\n",
       "CLV                            float64\n",
       "Enrollment Type                 object\n",
       "Enrollment Year                  int64\n",
       "Enrollment Month                 int64\n",
       "Cancellation Year              float64\n",
       "Cancellation Month             float64\n",
       "dtype: object"
      ]
     },
     "execution_count": 34,
     "metadata": {},
     "output_type": "execute_result"
    }
   ],
   "source": [
    "# Tipos de datos de cada columna. No he cambiado ningun tipo de dato porque lo veo correcto. \n",
    "df_unido.dtypes"
   ]
  },
  {
   "cell_type": "markdown",
   "metadata": {},
   "source": [
    "1.2. LIMPIEZA DE DATOS "
   ]
  },
  {
   "cell_type": "code",
   "execution_count": 35,
   "metadata": {},
   "outputs": [
    {
     "data": {
      "text/html": [
       "<div>\n",
       "<style scoped>\n",
       "    .dataframe tbody tr th:only-of-type {\n",
       "        vertical-align: middle;\n",
       "    }\n",
       "\n",
       "    .dataframe tbody tr th {\n",
       "        vertical-align: top;\n",
       "    }\n",
       "\n",
       "    .dataframe thead th {\n",
       "        text-align: right;\n",
       "    }\n",
       "</style>\n",
       "<table border=\"1\" class=\"dataframe\">\n",
       "  <thead>\n",
       "    <tr style=\"text-align: right;\">\n",
       "      <th></th>\n",
       "      <th>Loyalty Number</th>\n",
       "      <th>Year</th>\n",
       "      <th>Month</th>\n",
       "      <th>Flights Booked</th>\n",
       "      <th>Flights with Companions</th>\n",
       "      <th>Total Flights</th>\n",
       "      <th>Distance</th>\n",
       "      <th>Points Accumulated</th>\n",
       "      <th>Points Redeemed</th>\n",
       "      <th>Dollar Cost Points Redeemed</th>\n",
       "      <th>Country</th>\n",
       "      <th>Province</th>\n",
       "      <th>City</th>\n",
       "      <th>Postal Code</th>\n",
       "      <th>Gender</th>\n",
       "      <th>Education</th>\n",
       "      <th>Salary</th>\n",
       "      <th>Marital Status</th>\n",
       "      <th>Loyalty Card</th>\n",
       "      <th>CLV</th>\n",
       "      <th>Enrollment Type</th>\n",
       "      <th>Enrollment Year</th>\n",
       "      <th>Enrollment Month</th>\n",
       "      <th>Cancellation Year</th>\n",
       "      <th>Cancellation Month</th>\n",
       "    </tr>\n",
       "  </thead>\n",
       "  <tbody>\n",
       "    <tr>\n",
       "      <th>41</th>\n",
       "      <td>101902</td>\n",
       "      <td>2017</td>\n",
       "      <td>1</td>\n",
       "      <td>0</td>\n",
       "      <td>0</td>\n",
       "      <td>0</td>\n",
       "      <td>0</td>\n",
       "      <td>0.0</td>\n",
       "      <td>0</td>\n",
       "      <td>0</td>\n",
       "      <td>Canada</td>\n",
       "      <td>Ontario</td>\n",
       "      <td>London</td>\n",
       "      <td>M5B 3E4</td>\n",
       "      <td>Female</td>\n",
       "      <td>College</td>\n",
       "      <td>NaN</td>\n",
       "      <td>Married</td>\n",
       "      <td>Aurora</td>\n",
       "      <td>6265.34</td>\n",
       "      <td>Standard</td>\n",
       "      <td>2017</td>\n",
       "      <td>1</td>\n",
       "      <td>NaN</td>\n",
       "      <td>NaN</td>\n",
       "    </tr>\n",
       "    <tr>\n",
       "      <th>42</th>\n",
       "      <td>101902</td>\n",
       "      <td>2017</td>\n",
       "      <td>1</td>\n",
       "      <td>0</td>\n",
       "      <td>0</td>\n",
       "      <td>0</td>\n",
       "      <td>0</td>\n",
       "      <td>0.0</td>\n",
       "      <td>0</td>\n",
       "      <td>0</td>\n",
       "      <td>Canada</td>\n",
       "      <td>Ontario</td>\n",
       "      <td>London</td>\n",
       "      <td>M5B 3E4</td>\n",
       "      <td>Female</td>\n",
       "      <td>College</td>\n",
       "      <td>NaN</td>\n",
       "      <td>Married</td>\n",
       "      <td>Aurora</td>\n",
       "      <td>6265.34</td>\n",
       "      <td>Standard</td>\n",
       "      <td>2017</td>\n",
       "      <td>1</td>\n",
       "      <td>NaN</td>\n",
       "      <td>NaN</td>\n",
       "    </tr>\n",
       "    <tr>\n",
       "      <th>16942</th>\n",
       "      <td>101902</td>\n",
       "      <td>2017</td>\n",
       "      <td>2</td>\n",
       "      <td>0</td>\n",
       "      <td>0</td>\n",
       "      <td>0</td>\n",
       "      <td>0</td>\n",
       "      <td>0.0</td>\n",
       "      <td>0</td>\n",
       "      <td>0</td>\n",
       "      <td>Canada</td>\n",
       "      <td>Ontario</td>\n",
       "      <td>London</td>\n",
       "      <td>M5B 3E4</td>\n",
       "      <td>Female</td>\n",
       "      <td>College</td>\n",
       "      <td>NaN</td>\n",
       "      <td>Married</td>\n",
       "      <td>Aurora</td>\n",
       "      <td>6265.34</td>\n",
       "      <td>Standard</td>\n",
       "      <td>2017</td>\n",
       "      <td>1</td>\n",
       "      <td>NaN</td>\n",
       "      <td>NaN</td>\n",
       "    </tr>\n",
       "    <tr>\n",
       "      <th>16943</th>\n",
       "      <td>101902</td>\n",
       "      <td>2017</td>\n",
       "      <td>2</td>\n",
       "      <td>0</td>\n",
       "      <td>0</td>\n",
       "      <td>0</td>\n",
       "      <td>0</td>\n",
       "      <td>0.0</td>\n",
       "      <td>0</td>\n",
       "      <td>0</td>\n",
       "      <td>Canada</td>\n",
       "      <td>Ontario</td>\n",
       "      <td>London</td>\n",
       "      <td>M5B 3E4</td>\n",
       "      <td>Female</td>\n",
       "      <td>College</td>\n",
       "      <td>NaN</td>\n",
       "      <td>Married</td>\n",
       "      <td>Aurora</td>\n",
       "      <td>6265.34</td>\n",
       "      <td>Standard</td>\n",
       "      <td>2017</td>\n",
       "      <td>1</td>\n",
       "      <td>NaN</td>\n",
       "      <td>NaN</td>\n",
       "    </tr>\n",
       "    <tr>\n",
       "      <th>33843</th>\n",
       "      <td>101902</td>\n",
       "      <td>2017</td>\n",
       "      <td>3</td>\n",
       "      <td>0</td>\n",
       "      <td>0</td>\n",
       "      <td>0</td>\n",
       "      <td>0</td>\n",
       "      <td>0.0</td>\n",
       "      <td>0</td>\n",
       "      <td>0</td>\n",
       "      <td>Canada</td>\n",
       "      <td>Ontario</td>\n",
       "      <td>London</td>\n",
       "      <td>M5B 3E4</td>\n",
       "      <td>Female</td>\n",
       "      <td>College</td>\n",
       "      <td>NaN</td>\n",
       "      <td>Married</td>\n",
       "      <td>Aurora</td>\n",
       "      <td>6265.34</td>\n",
       "      <td>Standard</td>\n",
       "      <td>2017</td>\n",
       "      <td>1</td>\n",
       "      <td>NaN</td>\n",
       "      <td>NaN</td>\n",
       "    </tr>\n",
       "    <tr>\n",
       "      <th>...</th>\n",
       "      <td>...</td>\n",
       "      <td>...</td>\n",
       "      <td>...</td>\n",
       "      <td>...</td>\n",
       "      <td>...</td>\n",
       "      <td>...</td>\n",
       "      <td>...</td>\n",
       "      <td>...</td>\n",
       "      <td>...</td>\n",
       "      <td>...</td>\n",
       "      <td>...</td>\n",
       "      <td>...</td>\n",
       "      <td>...</td>\n",
       "      <td>...</td>\n",
       "      <td>...</td>\n",
       "      <td>...</td>\n",
       "      <td>...</td>\n",
       "      <td>...</td>\n",
       "      <td>...</td>\n",
       "      <td>...</td>\n",
       "      <td>...</td>\n",
       "      <td>...</td>\n",
       "      <td>...</td>\n",
       "      <td>...</td>\n",
       "      <td>...</td>\n",
       "    </tr>\n",
       "    <tr>\n",
       "      <th>151972</th>\n",
       "      <td>992168</td>\n",
       "      <td>2017</td>\n",
       "      <td>9</td>\n",
       "      <td>0</td>\n",
       "      <td>0</td>\n",
       "      <td>0</td>\n",
       "      <td>0</td>\n",
       "      <td>0.0</td>\n",
       "      <td>0</td>\n",
       "      <td>0</td>\n",
       "      <td>Canada</td>\n",
       "      <td>Ontario</td>\n",
       "      <td>Toronto</td>\n",
       "      <td>P1J 8T7</td>\n",
       "      <td>Male</td>\n",
       "      <td>High School or Below</td>\n",
       "      <td>66386.0</td>\n",
       "      <td>Married</td>\n",
       "      <td>Nova</td>\n",
       "      <td>5746.33</td>\n",
       "      <td>Standard</td>\n",
       "      <td>2012</td>\n",
       "      <td>9</td>\n",
       "      <td>NaN</td>\n",
       "      <td>NaN</td>\n",
       "    </tr>\n",
       "    <tr>\n",
       "      <th>304080</th>\n",
       "      <td>992168</td>\n",
       "      <td>2018</td>\n",
       "      <td>6</td>\n",
       "      <td>0</td>\n",
       "      <td>0</td>\n",
       "      <td>0</td>\n",
       "      <td>0</td>\n",
       "      <td>0.0</td>\n",
       "      <td>0</td>\n",
       "      <td>0</td>\n",
       "      <td>Canada</td>\n",
       "      <td>Ontario</td>\n",
       "      <td>Toronto</td>\n",
       "      <td>P1J 8T7</td>\n",
       "      <td>Male</td>\n",
       "      <td>High School or Below</td>\n",
       "      <td>66386.0</td>\n",
       "      <td>Married</td>\n",
       "      <td>Nova</td>\n",
       "      <td>5746.33</td>\n",
       "      <td>Standard</td>\n",
       "      <td>2012</td>\n",
       "      <td>9</td>\n",
       "      <td>NaN</td>\n",
       "      <td>NaN</td>\n",
       "    </tr>\n",
       "    <tr>\n",
       "      <th>304081</th>\n",
       "      <td>992168</td>\n",
       "      <td>2018</td>\n",
       "      <td>6</td>\n",
       "      <td>0</td>\n",
       "      <td>0</td>\n",
       "      <td>0</td>\n",
       "      <td>0</td>\n",
       "      <td>0.0</td>\n",
       "      <td>0</td>\n",
       "      <td>0</td>\n",
       "      <td>Canada</td>\n",
       "      <td>Ontario</td>\n",
       "      <td>Toronto</td>\n",
       "      <td>P1J 8T7</td>\n",
       "      <td>Male</td>\n",
       "      <td>High School or Below</td>\n",
       "      <td>66386.0</td>\n",
       "      <td>Married</td>\n",
       "      <td>Nova</td>\n",
       "      <td>5746.33</td>\n",
       "      <td>Standard</td>\n",
       "      <td>2012</td>\n",
       "      <td>9</td>\n",
       "      <td>NaN</td>\n",
       "      <td>NaN</td>\n",
       "    </tr>\n",
       "    <tr>\n",
       "      <th>354783</th>\n",
       "      <td>992168</td>\n",
       "      <td>2018</td>\n",
       "      <td>9</td>\n",
       "      <td>0</td>\n",
       "      <td>0</td>\n",
       "      <td>0</td>\n",
       "      <td>0</td>\n",
       "      <td>0.0</td>\n",
       "      <td>0</td>\n",
       "      <td>0</td>\n",
       "      <td>Canada</td>\n",
       "      <td>Ontario</td>\n",
       "      <td>Toronto</td>\n",
       "      <td>P1J 8T7</td>\n",
       "      <td>Male</td>\n",
       "      <td>High School or Below</td>\n",
       "      <td>66386.0</td>\n",
       "      <td>Married</td>\n",
       "      <td>Nova</td>\n",
       "      <td>5746.33</td>\n",
       "      <td>Standard</td>\n",
       "      <td>2012</td>\n",
       "      <td>9</td>\n",
       "      <td>NaN</td>\n",
       "      <td>NaN</td>\n",
       "    </tr>\n",
       "    <tr>\n",
       "      <th>354784</th>\n",
       "      <td>992168</td>\n",
       "      <td>2018</td>\n",
       "      <td>9</td>\n",
       "      <td>0</td>\n",
       "      <td>0</td>\n",
       "      <td>0</td>\n",
       "      <td>0</td>\n",
       "      <td>0.0</td>\n",
       "      <td>0</td>\n",
       "      <td>0</td>\n",
       "      <td>Canada</td>\n",
       "      <td>Ontario</td>\n",
       "      <td>Toronto</td>\n",
       "      <td>P1J 8T7</td>\n",
       "      <td>Male</td>\n",
       "      <td>High School or Below</td>\n",
       "      <td>66386.0</td>\n",
       "      <td>Married</td>\n",
       "      <td>Nova</td>\n",
       "      <td>5746.33</td>\n",
       "      <td>Standard</td>\n",
       "      <td>2012</td>\n",
       "      <td>9</td>\n",
       "      <td>NaN</td>\n",
       "      <td>NaN</td>\n",
       "    </tr>\n",
       "  </tbody>\n",
       "</table>\n",
       "<p>3712 rows × 25 columns</p>\n",
       "</div>"
      ],
      "text/plain": [
       "        Loyalty Number  Year  Month  Flights Booked  Flights with Companions  \\\n",
       "41              101902  2017      1               0                        0   \n",
       "42              101902  2017      1               0                        0   \n",
       "16942           101902  2017      2               0                        0   \n",
       "16943           101902  2017      2               0                        0   \n",
       "33843           101902  2017      3               0                        0   \n",
       "...                ...   ...    ...             ...                      ...   \n",
       "151972          992168  2017      9               0                        0   \n",
       "304080          992168  2018      6               0                        0   \n",
       "304081          992168  2018      6               0                        0   \n",
       "354783          992168  2018      9               0                        0   \n",
       "354784          992168  2018      9               0                        0   \n",
       "\n",
       "        Total Flights  Distance  Points Accumulated  Points Redeemed  \\\n",
       "41                  0         0                 0.0                0   \n",
       "42                  0         0                 0.0                0   \n",
       "16942               0         0                 0.0                0   \n",
       "16943               0         0                 0.0                0   \n",
       "33843               0         0                 0.0                0   \n",
       "...               ...       ...                 ...              ...   \n",
       "151972              0         0                 0.0                0   \n",
       "304080              0         0                 0.0                0   \n",
       "304081              0         0                 0.0                0   \n",
       "354783              0         0                 0.0                0   \n",
       "354784              0         0                 0.0                0   \n",
       "\n",
       "        Dollar Cost Points Redeemed Country Province     City Postal Code  \\\n",
       "41                                0  Canada  Ontario   London     M5B 3E4   \n",
       "42                                0  Canada  Ontario   London     M5B 3E4   \n",
       "16942                             0  Canada  Ontario   London     M5B 3E4   \n",
       "16943                             0  Canada  Ontario   London     M5B 3E4   \n",
       "33843                             0  Canada  Ontario   London     M5B 3E4   \n",
       "...                             ...     ...      ...      ...         ...   \n",
       "151972                            0  Canada  Ontario  Toronto     P1J 8T7   \n",
       "304080                            0  Canada  Ontario  Toronto     P1J 8T7   \n",
       "304081                            0  Canada  Ontario  Toronto     P1J 8T7   \n",
       "354783                            0  Canada  Ontario  Toronto     P1J 8T7   \n",
       "354784                            0  Canada  Ontario  Toronto     P1J 8T7   \n",
       "\n",
       "        Gender             Education   Salary Marital Status Loyalty Card  \\\n",
       "41      Female               College      NaN        Married       Aurora   \n",
       "42      Female               College      NaN        Married       Aurora   \n",
       "16942   Female               College      NaN        Married       Aurora   \n",
       "16943   Female               College      NaN        Married       Aurora   \n",
       "33843   Female               College      NaN        Married       Aurora   \n",
       "...        ...                   ...      ...            ...          ...   \n",
       "151972    Male  High School or Below  66386.0        Married         Nova   \n",
       "304080    Male  High School or Below  66386.0        Married         Nova   \n",
       "304081    Male  High School or Below  66386.0        Married         Nova   \n",
       "354783    Male  High School or Below  66386.0        Married         Nova   \n",
       "354784    Male  High School or Below  66386.0        Married         Nova   \n",
       "\n",
       "            CLV Enrollment Type  Enrollment Year  Enrollment Month  \\\n",
       "41      6265.34        Standard             2017                 1   \n",
       "42      6265.34        Standard             2017                 1   \n",
       "16942   6265.34        Standard             2017                 1   \n",
       "16943   6265.34        Standard             2017                 1   \n",
       "33843   6265.34        Standard             2017                 1   \n",
       "...         ...             ...              ...               ...   \n",
       "151972  5746.33        Standard             2012                 9   \n",
       "304080  5746.33        Standard             2012                 9   \n",
       "304081  5746.33        Standard             2012                 9   \n",
       "354783  5746.33        Standard             2012                 9   \n",
       "354784  5746.33        Standard             2012                 9   \n",
       "\n",
       "        Cancellation Year  Cancellation Month  \n",
       "41                    NaN                 NaN  \n",
       "42                    NaN                 NaN  \n",
       "16942                 NaN                 NaN  \n",
       "16943                 NaN                 NaN  \n",
       "33843                 NaN                 NaN  \n",
       "...                   ...                 ...  \n",
       "151972                NaN                 NaN  \n",
       "304080                NaN                 NaN  \n",
       "304081                NaN                 NaN  \n",
       "354783                NaN                 NaN  \n",
       "354784                NaN                 NaN  \n",
       "\n",
       "[3712 rows x 25 columns]"
      ]
     },
     "execution_count": 35,
     "metadata": {},
     "output_type": "execute_result"
    }
   ],
   "source": [
    "#Aqui vemos si las filas duplicadas que tenemos tienen los valores iguales para ver si las eliminamos\n",
    "df_unido[df_unido.duplicated(keep=False)].sort_values([\"Loyalty Number\", \"Year\",\"Month\"])"
   ]
  },
  {
   "cell_type": "code",
   "execution_count": 36,
   "metadata": {},
   "outputs": [
    {
     "data": {
      "text/html": [
       "<div>\n",
       "<style scoped>\n",
       "    .dataframe tbody tr th:only-of-type {\n",
       "        vertical-align: middle;\n",
       "    }\n",
       "\n",
       "    .dataframe tbody tr th {\n",
       "        vertical-align: top;\n",
       "    }\n",
       "\n",
       "    .dataframe thead th {\n",
       "        text-align: right;\n",
       "    }\n",
       "</style>\n",
       "<table border=\"1\" class=\"dataframe\">\n",
       "  <thead>\n",
       "    <tr style=\"text-align: right;\">\n",
       "      <th></th>\n",
       "      <th>Loyalty Number</th>\n",
       "      <th>Year</th>\n",
       "      <th>Month</th>\n",
       "      <th>Flights Booked</th>\n",
       "      <th>Flights with Companions</th>\n",
       "      <th>Total Flights</th>\n",
       "      <th>Distance</th>\n",
       "      <th>Points Accumulated</th>\n",
       "      <th>Points Redeemed</th>\n",
       "      <th>Dollar Cost Points Redeemed</th>\n",
       "      <th>Country</th>\n",
       "      <th>Province</th>\n",
       "      <th>City</th>\n",
       "      <th>Postal Code</th>\n",
       "      <th>Gender</th>\n",
       "      <th>Education</th>\n",
       "      <th>Salary</th>\n",
       "      <th>Marital Status</th>\n",
       "      <th>Loyalty Card</th>\n",
       "      <th>CLV</th>\n",
       "      <th>Enrollment Type</th>\n",
       "      <th>Enrollment Year</th>\n",
       "      <th>Enrollment Month</th>\n",
       "      <th>Cancellation Year</th>\n",
       "      <th>Cancellation Month</th>\n",
       "    </tr>\n",
       "  </thead>\n",
       "  <tbody>\n",
       "    <tr>\n",
       "      <th>0</th>\n",
       "      <td>100018</td>\n",
       "      <td>2017</td>\n",
       "      <td>1</td>\n",
       "      <td>3</td>\n",
       "      <td>0</td>\n",
       "      <td>3</td>\n",
       "      <td>1521</td>\n",
       "      <td>152.0</td>\n",
       "      <td>0</td>\n",
       "      <td>0</td>\n",
       "      <td>Canada</td>\n",
       "      <td>Alberta</td>\n",
       "      <td>Edmonton</td>\n",
       "      <td>T9G 1W3</td>\n",
       "      <td>Female</td>\n",
       "      <td>Bachelor</td>\n",
       "      <td>92552.0</td>\n",
       "      <td>Married</td>\n",
       "      <td>Aurora</td>\n",
       "      <td>7919.20</td>\n",
       "      <td>Standard</td>\n",
       "      <td>2016</td>\n",
       "      <td>8</td>\n",
       "      <td>NaN</td>\n",
       "      <td>NaN</td>\n",
       "    </tr>\n",
       "    <tr>\n",
       "      <th>1</th>\n",
       "      <td>100102</td>\n",
       "      <td>2017</td>\n",
       "      <td>1</td>\n",
       "      <td>10</td>\n",
       "      <td>4</td>\n",
       "      <td>14</td>\n",
       "      <td>2030</td>\n",
       "      <td>203.0</td>\n",
       "      <td>0</td>\n",
       "      <td>0</td>\n",
       "      <td>Canada</td>\n",
       "      <td>Ontario</td>\n",
       "      <td>Toronto</td>\n",
       "      <td>M1R 4K3</td>\n",
       "      <td>Male</td>\n",
       "      <td>College</td>\n",
       "      <td>NaN</td>\n",
       "      <td>Single</td>\n",
       "      <td>Nova</td>\n",
       "      <td>2887.74</td>\n",
       "      <td>Standard</td>\n",
       "      <td>2013</td>\n",
       "      <td>3</td>\n",
       "      <td>NaN</td>\n",
       "      <td>NaN</td>\n",
       "    </tr>\n",
       "    <tr>\n",
       "      <th>2</th>\n",
       "      <td>100140</td>\n",
       "      <td>2017</td>\n",
       "      <td>1</td>\n",
       "      <td>6</td>\n",
       "      <td>0</td>\n",
       "      <td>6</td>\n",
       "      <td>1200</td>\n",
       "      <td>120.0</td>\n",
       "      <td>0</td>\n",
       "      <td>0</td>\n",
       "      <td>Canada</td>\n",
       "      <td>British Columbia</td>\n",
       "      <td>Dawson Creek</td>\n",
       "      <td>U5I 4F1</td>\n",
       "      <td>Female</td>\n",
       "      <td>College</td>\n",
       "      <td>NaN</td>\n",
       "      <td>Divorced</td>\n",
       "      <td>Nova</td>\n",
       "      <td>2838.07</td>\n",
       "      <td>Standard</td>\n",
       "      <td>2016</td>\n",
       "      <td>7</td>\n",
       "      <td>NaN</td>\n",
       "      <td>NaN</td>\n",
       "    </tr>\n",
       "    <tr>\n",
       "      <th>3</th>\n",
       "      <td>100214</td>\n",
       "      <td>2017</td>\n",
       "      <td>1</td>\n",
       "      <td>0</td>\n",
       "      <td>0</td>\n",
       "      <td>0</td>\n",
       "      <td>0</td>\n",
       "      <td>0.0</td>\n",
       "      <td>0</td>\n",
       "      <td>0</td>\n",
       "      <td>Canada</td>\n",
       "      <td>British Columbia</td>\n",
       "      <td>Vancouver</td>\n",
       "      <td>V5R 1W3</td>\n",
       "      <td>Male</td>\n",
       "      <td>Bachelor</td>\n",
       "      <td>63253.0</td>\n",
       "      <td>Married</td>\n",
       "      <td>Star</td>\n",
       "      <td>4170.57</td>\n",
       "      <td>Standard</td>\n",
       "      <td>2015</td>\n",
       "      <td>8</td>\n",
       "      <td>NaN</td>\n",
       "      <td>NaN</td>\n",
       "    </tr>\n",
       "    <tr>\n",
       "      <th>4</th>\n",
       "      <td>100272</td>\n",
       "      <td>2017</td>\n",
       "      <td>1</td>\n",
       "      <td>0</td>\n",
       "      <td>0</td>\n",
       "      <td>0</td>\n",
       "      <td>0</td>\n",
       "      <td>0.0</td>\n",
       "      <td>0</td>\n",
       "      <td>0</td>\n",
       "      <td>Canada</td>\n",
       "      <td>Ontario</td>\n",
       "      <td>Toronto</td>\n",
       "      <td>P1L 8X8</td>\n",
       "      <td>Female</td>\n",
       "      <td>Bachelor</td>\n",
       "      <td>91163.0</td>\n",
       "      <td>Divorced</td>\n",
       "      <td>Star</td>\n",
       "      <td>6622.05</td>\n",
       "      <td>Standard</td>\n",
       "      <td>2014</td>\n",
       "      <td>1</td>\n",
       "      <td>NaN</td>\n",
       "      <td>NaN</td>\n",
       "    </tr>\n",
       "  </tbody>\n",
       "</table>\n",
       "</div>"
      ],
      "text/plain": [
       "   Loyalty Number  Year  Month  Flights Booked  Flights with Companions  \\\n",
       "0          100018  2017      1               3                        0   \n",
       "1          100102  2017      1              10                        4   \n",
       "2          100140  2017      1               6                        0   \n",
       "3          100214  2017      1               0                        0   \n",
       "4          100272  2017      1               0                        0   \n",
       "\n",
       "   Total Flights  Distance  Points Accumulated  Points Redeemed  \\\n",
       "0              3      1521               152.0                0   \n",
       "1             14      2030               203.0                0   \n",
       "2              6      1200               120.0                0   \n",
       "3              0         0                 0.0                0   \n",
       "4              0         0                 0.0                0   \n",
       "\n",
       "   Dollar Cost Points Redeemed Country          Province          City  \\\n",
       "0                            0  Canada           Alberta      Edmonton   \n",
       "1                            0  Canada           Ontario       Toronto   \n",
       "2                            0  Canada  British Columbia  Dawson Creek   \n",
       "3                            0  Canada  British Columbia     Vancouver   \n",
       "4                            0  Canada           Ontario       Toronto   \n",
       "\n",
       "  Postal Code  Gender Education   Salary Marital Status Loyalty Card      CLV  \\\n",
       "0     T9G 1W3  Female  Bachelor  92552.0        Married       Aurora  7919.20   \n",
       "1     M1R 4K3    Male   College      NaN         Single         Nova  2887.74   \n",
       "2     U5I 4F1  Female   College      NaN       Divorced         Nova  2838.07   \n",
       "3     V5R 1W3    Male  Bachelor  63253.0        Married         Star  4170.57   \n",
       "4     P1L 8X8  Female  Bachelor  91163.0       Divorced         Star  6622.05   \n",
       "\n",
       "  Enrollment Type  Enrollment Year  Enrollment Month  Cancellation Year  \\\n",
       "0        Standard             2016                 8                NaN   \n",
       "1        Standard             2013                 3                NaN   \n",
       "2        Standard             2016                 7                NaN   \n",
       "3        Standard             2015                 8                NaN   \n",
       "4        Standard             2014                 1                NaN   \n",
       "\n",
       "   Cancellation Month  \n",
       "0                 NaN  \n",
       "1                 NaN  \n",
       "2                 NaN  \n",
       "3                 NaN  \n",
       "4                 NaN  "
      ]
     },
     "execution_count": 36,
     "metadata": {},
     "output_type": "execute_result"
    }
   ],
   "source": [
    "# Esto es para borrar los duplicados y mantener el original \n",
    "\n",
    "df_sin_dup = df_unido.drop_duplicates(keep='last')\n",
    "\n",
    "df_sin_dup.head()"
   ]
  },
  {
   "cell_type": "code",
   "execution_count": 37,
   "metadata": {},
   "outputs": [
    {
     "data": {
      "text/plain": [
       "np.int64(0)"
      ]
     },
     "execution_count": 37,
     "metadata": {},
     "output_type": "execute_result"
    }
   ],
   "source": [
    "#Aqui comprobamos que realmente se han borrado correctamente los duplicados\n",
    "df_sin_dup.duplicated().sum()"
   ]
  },
  {
   "cell_type": "code",
   "execution_count": 38,
   "metadata": {},
   "outputs": [
    {
     "data": {
      "text/plain": [
       "Loyalty Number                  0.000000\n",
       "Year                            0.000000\n",
       "Month                           0.000000\n",
       "Flights Booked                  0.000000\n",
       "Flights with Companions         0.000000\n",
       "Total Flights                   0.000000\n",
       "Distance                        0.000000\n",
       "Points Accumulated              0.000000\n",
       "Points Redeemed                 0.000000\n",
       "Dollar Cost Points Redeemed     0.000000\n",
       "Country                         0.000000\n",
       "Province                        0.000000\n",
       "City                            0.000000\n",
       "Postal Code                     0.000000\n",
       "Gender                          0.000000\n",
       "Education                       0.000000\n",
       "Salary                         25.312112\n",
       "Marital Status                  0.000000\n",
       "Loyalty Card                    0.000000\n",
       "CLV                             0.000000\n",
       "Enrollment Type                 0.000000\n",
       "Enrollment Year                 0.000000\n",
       "Enrollment Month                0.000000\n",
       "Cancellation Year              87.657535\n",
       "Cancellation Month             87.657535\n",
       "dtype: float64"
      ]
     },
     "execution_count": 38,
     "metadata": {},
     "output_type": "execute_result"
    }
   ],
   "source": [
    "# Porcentaje de nulos de cada columna, para verlo en conjunto. Vemos que hay nulos en 3 columnas por lo que las voy a analizar más detenidamente.\n",
    "\n",
    "df_unido.isna().sum()/df_unido.shape[0]*100"
   ]
  },
  {
   "cell_type": "code",
   "execution_count": 39,
   "metadata": {},
   "outputs": [
    {
     "name": "stdout",
     "output_type": "stream",
     "text": [
      "[-58486. -57297. -49830. ... 397919. 407228.     nan]\n"
     ]
    }
   ],
   "source": [
    "print(np.sort(df_unido[\"Salary\"].unique()))"
   ]
  },
  {
   "cell_type": "code",
   "execution_count": 40,
   "metadata": {},
   "outputs": [
    {
     "name": "stdout",
     "output_type": "stream",
     "text": [
      "[-58486. -57297. -49830. ... 397919. 407228.     nan]\n"
     ]
    }
   ],
   "source": [
    "# Mostrar los valores únicos ordenados. Parece que hay negativos en el salary. \n",
    "print(np.sort(df_sin_dup[\"Salary\"].unique()))\n"
   ]
  },
  {
   "cell_type": "code",
   "execution_count": 41,
   "metadata": {},
   "outputs": [
    {
     "data": {
      "text/plain": [
       "Salary\n",
       "101933.0    552\n",
       "51573.0     336\n",
       "61809.0     336\n",
       "62283.0     336\n",
       "64001.0     312\n",
       "           ... \n",
       "63076.0      24\n",
       "61927.0      24\n",
       "46749.0      24\n",
       "73327.0      24\n",
       "61434.0      24\n",
       "Name: count, Length: 5890, dtype: int64"
      ]
     },
     "execution_count": 41,
     "metadata": {},
     "output_type": "execute_result"
    }
   ],
   "source": [
    "df_sin_dup[\"Salary\"].value_counts()"
   ]
  },
  {
   "cell_type": "markdown",
   "metadata": {},
   "source": [
    "FUNCION. Pasar a soporte"
   ]
  },
  {
   "cell_type": "code",
   "execution_count": 42,
   "metadata": {},
   "outputs": [
    {
     "name": "stdout",
     "output_type": "stream",
     "text": [
      "5\n",
      "3.14\n"
     ]
    }
   ],
   "source": [
    "# Crear función de conversión de números a numeros absolutos\n",
    "\n",
    "def convertir_a_absoluto(numero):\n",
    "    \"\"\"\n",
    "    Convierte un número a su valor absoluto.\n",
    "\n",
    "    Parámetros:\n",
    "    numero (int | float): Número a convertir.\n",
    "\n",
    "    Retorno:\n",
    "    int | float: Valor absoluto del número.\n",
    "    \"\"\"\n",
    "    return abs(numero)\n",
    "\n",
    "# Ejemplo de uso\n",
    "print(convertir_a_absoluto(-5))      \n",
    "print(convertir_a_absoluto(-3.14)) "
   ]
  },
  {
   "cell_type": "markdown",
   "metadata": {},
   "source": [
    "dato importante informe "
   ]
  },
  {
   "cell_type": "code",
   "execution_count": 43,
   "metadata": {},
   "outputs": [],
   "source": [
    "#En el dataframe unido (el original). \n",
    "#Convierto a absoluto para quitar los negativos ya que los entiendo como algun tipo de error.\n",
    "#Convierto esta columna a absoluto porque no hay datos ilogicos, esto lo he visto más arriba con un sort.\n",
    "df_unido[\"Salary\"] = df_unido[\"Salary\"].apply(convertir_a_absoluto)"
   ]
  },
  {
   "cell_type": "markdown",
   "metadata": {},
   "source": [
    "aunque la columna salary tiene un 25% de nan vamos a continuar con esa columna tal y como está ya que no tengo mucho tiempo. Si tengo tiempo despues la exploraré y vere si puedo sacarla de otra para tener todos los datos y no solo un 75%"
   ]
  },
  {
   "cell_type": "code",
   "execution_count": 44,
   "metadata": {},
   "outputs": [
    {
     "data": {
      "text/plain": [
       "array([92552.,    nan, 63253., ..., 23160., 97206., 56345.])"
      ]
     },
     "execution_count": 44,
     "metadata": {},
     "output_type": "execute_result"
    }
   ],
   "source": [
    "df_unido[\"Salary\"].unique()"
   ]
  },
  {
   "cell_type": "code",
   "execution_count": 45,
   "metadata": {},
   "outputs": [
    {
     "data": {
      "text/plain": [
       "array([92552.,    nan, 63253., ..., 23160., 97206., 56345.])"
      ]
     },
     "execution_count": 45,
     "metadata": {},
     "output_type": "execute_result"
    }
   ],
   "source": [
    "#Para comprobar que en el df_sin_dup esta igual y no hay negativos.\n",
    "df_sin_dup[\"Salary\"].unique()"
   ]
  },
  {
   "cell_type": "markdown",
   "metadata": {},
   "source": [
    "dato importante para informe final "
   ]
  },
  {
   "cell_type": "code",
   "execution_count": 46,
   "metadata": {},
   "outputs": [
    {
     "data": {
      "text/plain": [
       "array([  nan, 2018., 2015., 2016., 2014., 2013., 2017.])"
      ]
     },
     "execution_count": 46,
     "metadata": {},
     "output_type": "execute_result"
    }
   ],
   "source": [
    "#Veo que Hay cancelaciones entre 2013 y 2018. Pero lo importante es que esta columna es casi entera \n",
    "# NaN porque es el año en el que el cliente canceló por lo que el nan indica que no se ha cancelado\n",
    "df_sin_dup[\"Cancellation Year\"].unique()"
   ]
  },
  {
   "cell_type": "code",
   "execution_count": 47,
   "metadata": {},
   "outputs": [
    {
     "data": {
      "text/plain": [
       "Cancellation Year\n",
       "2018.0    15519\n",
       "2017.0    12147\n",
       "2016.0    10248\n",
       "2015.0     6360\n",
       "2014.0     4344\n",
       "2013.0     1032\n",
       "Name: count, dtype: int64"
      ]
     },
     "execution_count": 47,
     "metadata": {},
     "output_type": "execute_result"
    }
   ],
   "source": [
    "df_sin_dup[\"Cancellation Year\"].value_counts()"
   ]
  },
  {
   "cell_type": "markdown",
   "metadata": {},
   "source": [
    "dato importante para informe final"
   ]
  },
  {
   "cell_type": "code",
   "execution_count": 48,
   "metadata": {},
   "outputs": [
    {
     "data": {
      "text/plain": [
       "array([nan,  3.,  9.,  2.,  7.,  6.,  8.,  4.,  1.,  5., 11., 12., 10.])"
      ]
     },
     "execution_count": 48,
     "metadata": {},
     "output_type": "execute_result"
    }
   ],
   "source": [
    "#Esta columna es casi entera NaN porque es el año en el que el cliente canceló \n",
    "# por lo que el nan indica que no se ha cancelado\n",
    "df_sin_dup[\"Cancellation Month\"].unique()"
   ]
  },
  {
   "cell_type": "code",
   "execution_count": 49,
   "metadata": {},
   "outputs": [
    {
     "data": {
      "text/plain": [
       "Cancellation Month\n",
       "12.0    5112\n",
       "11.0    5095\n",
       "8.0     4992\n",
       "7.0     4480\n",
       "10.0    4322\n",
       "9.0     4224\n",
       "6.0     3960\n",
       "1.0     3727\n",
       "3.0     3579\n",
       "5.0     3559\n",
       "2.0     3336\n",
       "4.0     3264\n",
       "Name: count, dtype: int64"
      ]
     },
     "execution_count": 49,
     "metadata": {},
     "output_type": "execute_result"
    }
   ],
   "source": [
    "df_sin_dup[\"Cancellation Month\"].value_counts()"
   ]
  },
  {
   "cell_type": "code",
   "execution_count": 50,
   "metadata": {},
   "outputs": [
    {
     "data": {
      "text/plain": [
       "np.float64(79258.57628524046)"
      ]
     },
     "execution_count": 50,
     "metadata": {},
     "output_type": "execute_result"
    }
   ],
   "source": [
    "df_sin_dup[\"Salary\"].mean()"
   ]
  },
  {
   "cell_type": "code",
   "execution_count": 51,
   "metadata": {},
   "outputs": [
    {
     "data": {
      "text/plain": [
       "np.float64(73479.0)"
      ]
     },
     "execution_count": 51,
     "metadata": {},
     "output_type": "execute_result"
    }
   ],
   "source": [
    "df_sin_dup[\"Salary\"].median()"
   ]
  },
  {
   "cell_type": "code",
   "execution_count": 52,
   "metadata": {},
   "outputs": [
    {
     "data": {
      "text/plain": [
       "mean    79258.576285\n",
       "50%     73479.000000\n",
       "Name: Salary, dtype: float64"
      ]
     },
     "execution_count": 52,
     "metadata": {},
     "output_type": "execute_result"
    }
   ],
   "source": [
    "df_sin_dup[\"Salary\"].describe()[[\"mean\", \"50%\"]]"
   ]
  },
  {
   "cell_type": "code",
   "execution_count": 53,
   "metadata": {},
   "outputs": [
    {
     "data": {
      "text/html": [
       "<div>\n",
       "<style scoped>\n",
       "    .dataframe tbody tr th:only-of-type {\n",
       "        vertical-align: middle;\n",
       "    }\n",
       "\n",
       "    .dataframe tbody tr th {\n",
       "        vertical-align: top;\n",
       "    }\n",
       "\n",
       "    .dataframe thead th {\n",
       "        text-align: right;\n",
       "    }\n",
       "</style>\n",
       "<table border=\"1\" class=\"dataframe\">\n",
       "  <thead>\n",
       "    <tr style=\"text-align: right;\">\n",
       "      <th></th>\n",
       "      <th>Loyalty Number</th>\n",
       "      <th>Year</th>\n",
       "      <th>Month</th>\n",
       "      <th>Flights Booked</th>\n",
       "      <th>Flights with Companions</th>\n",
       "      <th>Total Flights</th>\n",
       "      <th>Distance</th>\n",
       "      <th>Points Accumulated</th>\n",
       "      <th>Points Redeemed</th>\n",
       "      <th>Dollar Cost Points Redeemed</th>\n",
       "      <th>Country</th>\n",
       "      <th>Province</th>\n",
       "      <th>City</th>\n",
       "      <th>Postal Code</th>\n",
       "      <th>Gender</th>\n",
       "      <th>Education</th>\n",
       "      <th>Salary</th>\n",
       "      <th>Marital Status</th>\n",
       "      <th>Loyalty Card</th>\n",
       "      <th>CLV</th>\n",
       "      <th>Enrollment Type</th>\n",
       "      <th>Enrollment Year</th>\n",
       "      <th>Enrollment Month</th>\n",
       "      <th>Cancellation Year</th>\n",
       "      <th>Cancellation Month</th>\n",
       "    </tr>\n",
       "  </thead>\n",
       "  <tbody>\n",
       "    <tr>\n",
       "      <th>0</th>\n",
       "      <td>100018</td>\n",
       "      <td>2017</td>\n",
       "      <td>1</td>\n",
       "      <td>3</td>\n",
       "      <td>0</td>\n",
       "      <td>3</td>\n",
       "      <td>1521</td>\n",
       "      <td>152.0</td>\n",
       "      <td>0</td>\n",
       "      <td>0</td>\n",
       "      <td>Canada</td>\n",
       "      <td>Alberta</td>\n",
       "      <td>Edmonton</td>\n",
       "      <td>T9G 1W3</td>\n",
       "      <td>Female</td>\n",
       "      <td>Bachelor</td>\n",
       "      <td>92552.0</td>\n",
       "      <td>Married</td>\n",
       "      <td>Aurora</td>\n",
       "      <td>7919.20</td>\n",
       "      <td>Standard</td>\n",
       "      <td>2016</td>\n",
       "      <td>8</td>\n",
       "      <td>NaN</td>\n",
       "      <td>NaN</td>\n",
       "    </tr>\n",
       "    <tr>\n",
       "      <th>1</th>\n",
       "      <td>100102</td>\n",
       "      <td>2017</td>\n",
       "      <td>1</td>\n",
       "      <td>10</td>\n",
       "      <td>4</td>\n",
       "      <td>14</td>\n",
       "      <td>2030</td>\n",
       "      <td>203.0</td>\n",
       "      <td>0</td>\n",
       "      <td>0</td>\n",
       "      <td>Canada</td>\n",
       "      <td>Ontario</td>\n",
       "      <td>Toronto</td>\n",
       "      <td>M1R 4K3</td>\n",
       "      <td>Male</td>\n",
       "      <td>College</td>\n",
       "      <td>NaN</td>\n",
       "      <td>Single</td>\n",
       "      <td>Nova</td>\n",
       "      <td>2887.74</td>\n",
       "      <td>Standard</td>\n",
       "      <td>2013</td>\n",
       "      <td>3</td>\n",
       "      <td>NaN</td>\n",
       "      <td>NaN</td>\n",
       "    </tr>\n",
       "    <tr>\n",
       "      <th>2</th>\n",
       "      <td>100140</td>\n",
       "      <td>2017</td>\n",
       "      <td>1</td>\n",
       "      <td>6</td>\n",
       "      <td>0</td>\n",
       "      <td>6</td>\n",
       "      <td>1200</td>\n",
       "      <td>120.0</td>\n",
       "      <td>0</td>\n",
       "      <td>0</td>\n",
       "      <td>Canada</td>\n",
       "      <td>British Columbia</td>\n",
       "      <td>Dawson Creek</td>\n",
       "      <td>U5I 4F1</td>\n",
       "      <td>Female</td>\n",
       "      <td>College</td>\n",
       "      <td>NaN</td>\n",
       "      <td>Divorced</td>\n",
       "      <td>Nova</td>\n",
       "      <td>2838.07</td>\n",
       "      <td>Standard</td>\n",
       "      <td>2016</td>\n",
       "      <td>7</td>\n",
       "      <td>NaN</td>\n",
       "      <td>NaN</td>\n",
       "    </tr>\n",
       "    <tr>\n",
       "      <th>3</th>\n",
       "      <td>100214</td>\n",
       "      <td>2017</td>\n",
       "      <td>1</td>\n",
       "      <td>0</td>\n",
       "      <td>0</td>\n",
       "      <td>0</td>\n",
       "      <td>0</td>\n",
       "      <td>0.0</td>\n",
       "      <td>0</td>\n",
       "      <td>0</td>\n",
       "      <td>Canada</td>\n",
       "      <td>British Columbia</td>\n",
       "      <td>Vancouver</td>\n",
       "      <td>V5R 1W3</td>\n",
       "      <td>Male</td>\n",
       "      <td>Bachelor</td>\n",
       "      <td>63253.0</td>\n",
       "      <td>Married</td>\n",
       "      <td>Star</td>\n",
       "      <td>4170.57</td>\n",
       "      <td>Standard</td>\n",
       "      <td>2015</td>\n",
       "      <td>8</td>\n",
       "      <td>NaN</td>\n",
       "      <td>NaN</td>\n",
       "    </tr>\n",
       "    <tr>\n",
       "      <th>4</th>\n",
       "      <td>100272</td>\n",
       "      <td>2017</td>\n",
       "      <td>1</td>\n",
       "      <td>0</td>\n",
       "      <td>0</td>\n",
       "      <td>0</td>\n",
       "      <td>0</td>\n",
       "      <td>0.0</td>\n",
       "      <td>0</td>\n",
       "      <td>0</td>\n",
       "      <td>Canada</td>\n",
       "      <td>Ontario</td>\n",
       "      <td>Toronto</td>\n",
       "      <td>P1L 8X8</td>\n",
       "      <td>Female</td>\n",
       "      <td>Bachelor</td>\n",
       "      <td>91163.0</td>\n",
       "      <td>Divorced</td>\n",
       "      <td>Star</td>\n",
       "      <td>6622.05</td>\n",
       "      <td>Standard</td>\n",
       "      <td>2014</td>\n",
       "      <td>1</td>\n",
       "      <td>NaN</td>\n",
       "      <td>NaN</td>\n",
       "    </tr>\n",
       "  </tbody>\n",
       "</table>\n",
       "</div>"
      ],
      "text/plain": [
       "   Loyalty Number  Year  Month  Flights Booked  Flights with Companions  \\\n",
       "0          100018  2017      1               3                        0   \n",
       "1          100102  2017      1              10                        4   \n",
       "2          100140  2017      1               6                        0   \n",
       "3          100214  2017      1               0                        0   \n",
       "4          100272  2017      1               0                        0   \n",
       "\n",
       "   Total Flights  Distance  Points Accumulated  Points Redeemed  \\\n",
       "0              3      1521               152.0                0   \n",
       "1             14      2030               203.0                0   \n",
       "2              6      1200               120.0                0   \n",
       "3              0         0                 0.0                0   \n",
       "4              0         0                 0.0                0   \n",
       "\n",
       "   Dollar Cost Points Redeemed Country          Province          City  \\\n",
       "0                            0  Canada           Alberta      Edmonton   \n",
       "1                            0  Canada           Ontario       Toronto   \n",
       "2                            0  Canada  British Columbia  Dawson Creek   \n",
       "3                            0  Canada  British Columbia     Vancouver   \n",
       "4                            0  Canada           Ontario       Toronto   \n",
       "\n",
       "  Postal Code  Gender Education   Salary Marital Status Loyalty Card      CLV  \\\n",
       "0     T9G 1W3  Female  Bachelor  92552.0        Married       Aurora  7919.20   \n",
       "1     M1R 4K3    Male   College      NaN         Single         Nova  2887.74   \n",
       "2     U5I 4F1  Female   College      NaN       Divorced         Nova  2838.07   \n",
       "3     V5R 1W3    Male  Bachelor  63253.0        Married         Star  4170.57   \n",
       "4     P1L 8X8  Female  Bachelor  91163.0       Divorced         Star  6622.05   \n",
       "\n",
       "  Enrollment Type  Enrollment Year  Enrollment Month  Cancellation Year  \\\n",
       "0        Standard             2016                 8                NaN   \n",
       "1        Standard             2013                 3                NaN   \n",
       "2        Standard             2016                 7                NaN   \n",
       "3        Standard             2015                 8                NaN   \n",
       "4        Standard             2014                 1                NaN   \n",
       "\n",
       "   Cancellation Month  \n",
       "0                 NaN  \n",
       "1                 NaN  \n",
       "2                 NaN  \n",
       "3                 NaN  \n",
       "4                 NaN  "
      ]
     },
     "execution_count": 53,
     "metadata": {},
     "output_type": "execute_result"
    }
   ],
   "source": [
    "df_sin_dup.head()"
   ]
  },
  {
   "cell_type": "markdown",
   "metadata": {},
   "source": [
    "FASE 2. Visualización"
   ]
  },
  {
   "cell_type": "markdown",
   "metadata": {},
   "source": [
    "1. ¿Cómo se distribuye la cantidad de vuelos reservados por mes durante el año?"
   ]
  },
  {
   "cell_type": "markdown",
   "metadata": {},
   "source": [
    "En principio para esta visualización necesitaremos, la columna Flights Booked que nos aporta la cantidad de vuelos reservados y la columna Month. Ambas son columnas INT. "
   ]
  },
  {
   "cell_type": "code",
   "execution_count": 54,
   "metadata": {},
   "outputs": [
    {
     "data": {
      "text/plain": [
       "dtype('int64')"
      ]
     },
     "execution_count": 54,
     "metadata": {},
     "output_type": "execute_result"
    }
   ],
   "source": [
    "#\n",
    "df_sin_dup[\"Flights Booked\"].dtype"
   ]
  },
  {
   "cell_type": "code",
   "execution_count": 55,
   "metadata": {},
   "outputs": [
    {
     "data": {
      "text/plain": [
       "Flights Booked\n",
       "0     196128\n",
       "3      18228\n",
       "11     15705\n",
       "5      15084\n",
       "7      14561\n",
       "8      14357\n",
       "9      14164\n",
       "6      13847\n",
       "2      13641\n",
       "10     13363\n",
       "4      12821\n",
       "1      12667\n",
       "13     10782\n",
       "12     10382\n",
       "14      7057\n",
       "15      6582\n",
       "16      4354\n",
       "17      3899\n",
       "18      2958\n",
       "19      1496\n",
       "20      1156\n",
       "21       528\n",
       "Name: count, dtype: int64"
      ]
     },
     "execution_count": 55,
     "metadata": {},
     "output_type": "execute_result"
    }
   ],
   "source": [
    "df_sin_dup[\"Flights Booked\"].value_counts().sort_values(ascending=False)"
   ]
  },
  {
   "cell_type": "code",
   "execution_count": 56,
   "metadata": {},
   "outputs": [
    {
     "data": {
      "image/png": "[encoded data removed]",
      "text/plain": [
       "<Figure size 640x480 with 1 Axes>"
      ]
     },
     "metadata": {},
     "output_type": "display_data"
    }
   ],
   "source": [
    "sns.scatterplot(x = \"Month\", y=\"Flights Booked\", data = df_sin_dup);"
   ]
  },
  {
   "cell_type": "markdown",
   "metadata": {},
   "source": [
    "Esto esta hecho para los dos años."
   ]
  },
  {
   "cell_type": "code",
   "execution_count": 57,
   "metadata": {},
   "outputs": [
    {
     "data": {
      "image/png": "[encoded data removed]",
      "text/plain": [
       "<Figure size 640x480 with 1 Axes>"
      ]
     },
     "metadata": {},
     "output_type": "display_data"
    }
   ],
   "source": [
    "# Crear el connected scatterplot\n",
    "sns.lineplot(x=\"Month\", y=\"Flights Booked\", data=df_sin_dup, marker=\"v\", color='#FF5733')\n",
    "\n",
    "# Configuración del gráfico\n",
    "plt.title('Total de Vuelos Reservados por Mes. Sin distinción de año.')\n",
    "plt.xlabel('Mes')\n",
    "plt.ylabel('Vuelos Reservados')\n",
    "plt.xticks(ticks=range(1, 13))  # Asegura que los meses del 1 al 12 estén representados\n",
    "plt.show()"
   ]
  },
  {
   "cell_type": "markdown",
   "metadata": {},
   "source": [
    "2.  . ¿Existe una relación entre la distancia de los vuelos y los puntos acumulados por los cliente?"
   ]
  },
  {
   "cell_type": "code",
   "execution_count": 58,
   "metadata": {},
   "outputs": [
    {
     "data": {
      "text/plain": [
       "dtype('float64')"
      ]
     },
     "execution_count": 58,
     "metadata": {},
     "output_type": "execute_result"
    }
   ],
   "source": [
    "df_sin_dup[\"Points Accumulated\"].dtype"
   ]
  },
  {
   "cell_type": "code",
   "execution_count": 59,
   "metadata": {},
   "outputs": [
    {
     "data": {
      "text/plain": [
       "dtype('int64')"
      ]
     },
     "execution_count": 59,
     "metadata": {},
     "output_type": "execute_result"
    }
   ],
   "source": [
    "df_sin_dup[\"Distance\"].dtype"
   ]
  },
  {
   "cell_type": "code",
   "execution_count": 60,
   "metadata": {},
   "outputs": [
    {
     "name": "stdout",
     "output_type": "stream",
     "text": [
      "Coeficiente de correlación de Pearson: 0.9945458005650525\n"
     ]
    }
   ],
   "source": [
    "# Calcular el coeficiente de correlación de Pearson entre Puntos Acumulados y Distancia\n",
    "correlation = df_sin_dup['Points Accumulated'].corr(df_sin_dup['Distance'])\n",
    "print(f'Coeficiente de correlación de Pearson: {correlation}')\n"
   ]
  },
  {
   "cell_type": "markdown",
   "metadata": {},
   "source": [
    "Como el coeficiente de correlación de Pearson es cercano a +1 esto nos indica una relación positiva fuerte. Por lo que podríamos afirmar que existe relacion entre la distancia de los vuelos y los puntos acumulados."
   ]
  },
  {
   "cell_type": "code",
   "execution_count": 62,
   "metadata": {},
   "outputs": [
    {
     "data": {
      "image/png": "[encoded data removed]",
      "text/plain": [
       "<Figure size 640x480 with 1 Axes>"
      ]
     },
     "metadata": {},
     "output_type": "display_data"
    }
   ],
   "source": [
    "sns.scatterplot(x='Distance', y='Points Accumulated', data=df_sin_dup)\n",
    "plt.title('Gráfico de Dispersión')\n",
    "plt.xlabel('Distancia')\n",
    "plt.ylabel('Puntos Acumulados')\n",
    "plt.show()"
   ]
  },
  {
   "cell_type": "markdown",
   "metadata": {},
   "source": [
    "3. ¿Cuál es la distribución de los clientes por provincia o estado?"
   ]
  },
  {
   "cell_type": "code",
   "execution_count": 63,
   "metadata": {},
   "outputs": [
    {
     "data": {
      "text/plain": [
       "dtype('O')"
      ]
     },
     "execution_count": 63,
     "metadata": {},
     "output_type": "execute_result"
    }
   ],
   "source": [
    "df_sin_dup[\"Province\"].dtype"
   ]
  },
  {
   "cell_type": "code",
   "execution_count": 64,
   "metadata": {},
   "outputs": [
    {
     "data": {
      "text/plain": [
       "Province\n",
       "Ontario                 130258\n",
       "British Columbia        106442\n",
       "Quebec                   79573\n",
       "Alberta                  23360\n",
       "Manitoba                 15900\n",
       "New Brunswick            15352\n",
       "Nova Scotia              12507\n",
       "Saskatchewan              9861\n",
       "Newfoundland              6244\n",
       "Yukon                     2679\n",
       "Prince Edward Island      1584\n",
       "Name: count, dtype: int64"
      ]
     },
     "execution_count": 64,
     "metadata": {},
     "output_type": "execute_result"
    }
   ],
   "source": [
    "df_sin_dup[\"Province\"].value_counts()"
   ]
  },
  {
   "cell_type": "code",
   "execution_count": 65,
   "metadata": {},
   "outputs": [
    {
     "name": "stderr",
     "output_type": "stream",
     "text": [
      "/tmp/ipykernel_606/800209451.py:1: FutureWarning: \n",
      "\n",
      "Passing `palette` without assigning `hue` is deprecated and will be removed in v0.14.0. Assign the `x` variable to `hue` and set `legend=False` for the same effect.\n",
      "\n",
      "  sns.countplot(x= \"Province\", data = df_sin_dup,palette=[\"#4c72b0\", \"#55a868\", \"#f39c42\", \"#e64a4a\", \"#9a8c6b\",\n"
     ]
    },
    {
     "data": {
      "text/plain": [
       "([0, 1, 2, 3, 4, 5, 6, 7, 8, 9, 10],\n",
       " [Text(0, 0, 'Alberta'),\n",
       "  Text(1, 0, 'Ontario'),\n",
       "  Text(2, 0, 'British Columbia'),\n",
       "  Text(3, 0, 'Saskatchewan'),\n",
       "  Text(4, 0, 'Quebec'),\n",
       "  Text(5, 0, 'Newfoundland'),\n",
       "  Text(6, 0, 'Manitoba'),\n",
       "  Text(7, 0, 'New Brunswick'),\n",
       "  Text(8, 0, 'Nova Scotia'),\n",
       "  Text(9, 0, 'Prince Edward Island'),\n",
       "  Text(10, 0, 'Yukon')])"
      ]
     },
     "execution_count": 65,
     "metadata": {},
     "output_type": "execute_result"
    },
    {
     "data": {
      "image/png": "[encoded data removed]",
      "text/plain": [
       "<Figure size 640x480 with 1 Axes>"
      ]
     },
     "metadata": {},
     "output_type": "display_data"
    }
   ],
   "source": [
    "sns.countplot(x= \"Province\", data = df_sin_dup,palette=[\"#4c72b0\", \"#55a868\", \"#f39c42\", \"#e64a4a\", \"#9a8c6b\", \n",
    "           \"#9b6fa5\", \"#e6b0d4\", \"#8ca8c2\", \"#d9b8b2\", \"#57adad\", \n",
    "           \"#6c8f92\"]);\n",
    "plt.xticks(rotation = 90)"
   ]
  },
  {
   "cell_type": "markdown",
   "metadata": {},
   "source": [
    "------------------------- PRUEBA MAPA -----------------------"
   ]
  },
  {
   "cell_type": "code",
   "execution_count": null,
   "metadata": {},
   "outputs": [],
   "source": [
    "con geoplot"
   ]
  },
  {
   "cell_type": "markdown",
   "metadata": {},
   "source": [
    "4. ¿Cómo se compara el salario promedio entre los diferentes niveles educativos de los clientes?"
   ]
  },
  {
   "cell_type": "code",
   "execution_count": 67,
   "metadata": {},
   "outputs": [
    {
     "data": {
      "text/plain": [
       "dtype('float64')"
      ]
     },
     "execution_count": 67,
     "metadata": {},
     "output_type": "execute_result"
    }
   ],
   "source": [
    "df_sin_dup[\"Salary\"].dtype"
   ]
  },
  {
   "cell_type": "code",
   "execution_count": 68,
   "metadata": {},
   "outputs": [
    {
     "data": {
      "text/plain": [
       "Salary\n",
       "101933.0    552\n",
       "51573.0     336\n",
       "61809.0     336\n",
       "62283.0     336\n",
       "64001.0     312\n",
       "           ... \n",
       "63076.0      24\n",
       "61927.0      24\n",
       "46749.0      24\n",
       "73327.0      24\n",
       "61434.0      24\n",
       "Name: count, Length: 5890, dtype: int64"
      ]
     },
     "execution_count": 68,
     "metadata": {},
     "output_type": "execute_result"
    }
   ],
   "source": [
    "df_sin_dup[\"Salary\"].value_counts()"
   ]
  },
  {
   "cell_type": "code",
   "execution_count": 69,
   "metadata": {},
   "outputs": [
    {
     "data": {
      "text/plain": [
       "dtype('O')"
      ]
     },
     "execution_count": 69,
     "metadata": {},
     "output_type": "execute_result"
    }
   ],
   "source": [
    "df_sin_dup[\"Education\"].dtype"
   ]
  },
  {
   "cell_type": "code",
   "execution_count": 70,
   "metadata": {},
   "outputs": [
    {
     "data": {
      "text/plain": [
       "Education\n",
       "Bachelor                252567\n",
       "College                 102260\n",
       "High School or Below     18915\n",
       "Doctor                   17731\n",
       "Master                   12287\n",
       "Name: count, dtype: int64"
      ]
     },
     "execution_count": 70,
     "metadata": {},
     "output_type": "execute_result"
    }
   ],
   "source": [
    "df_sin_dup[\"Education\"].value_counts()"
   ]
  },
  {
   "cell_type": "code",
   "execution_count": null,
   "metadata": {},
   "outputs": [
    {
     "data": {
      "text/plain": [
       "<Axes: xlabel='Salary', ylabel='Count'>"
      ]
     },
     "execution_count": 75,
     "metadata": {},
     "output_type": "execute_result"
    },
    {
     "data": {
      "image/png": "[encoded data removed]",
      "text/plain": [
       "<Figure size 640x480 with 1 Axes>"
      ]
     },
     "metadata": {},
     "output_type": "display_data"
    }
   ],
   "source": [
    "#Relacion entre el salario y el nivel educativo con histograma\n",
    "sns.histplot(data=df_sin_dup, x='Salary', hue='Education', kde=True, multiple='dodge', bins=20)"
   ]
  },
  {
   "cell_type": "code",
   "execution_count": 79,
   "metadata": {},
   "outputs": [
    {
     "name": "stderr",
     "output_type": "stream",
     "text": [
      "/tmp/ipykernel_606/3648270653.py:2: FutureWarning: \n",
      "\n",
      "Passing `palette` without assigning `hue` is deprecated and will be removed in v0.14.0. Assign the `x` variable to `hue` and set `legend=False` for the same effect.\n",
      "\n",
      "  sns.barplot(data=df_sin_dup, x='Education', y='Salary', estimator='mean', palette=[\"#4c72b0\", \"#55a868\", \"#f39c42\", \"#e64a4a\", \"#9a8c6b\"] )\n"
     ]
    },
    {
     "data": {
      "image/png": "[encoded data removed]",
      "text/plain": [
       "<Figure size 640x480 with 1 Axes>"
      ]
     },
     "metadata": {},
     "output_type": "display_data"
    }
   ],
   "source": [
    "# Relación entre el salario (la media de este) y el nivel educativo\n",
    "sns.barplot(data=df_sin_dup, x='Education', y='Salary', estimator='mean', palette=[\"#4c72b0\", \"#55a868\", \"#f39c42\", \"#e64a4a\", \"#9a8c6b\"] )\n",
    "\n",
    "# Añadir título y etiquetas\n",
    "plt.title('Promedio del Salario por Nivel Educativo')\n",
    "plt.xlabel('Nivel Educativo')\n",
    "plt.ylabel('Salario Promedio')\n",
    "\n",
    "# Mostrar el gráfico\n",
    "plt.show()\n"
   ]
  },
  {
   "cell_type": "code",
   "execution_count": null,
   "metadata": {},
   "outputs": [
    {
     "data": {
      "image/png": "[encoded data removed]",
      "text/plain": [
       "<Figure size 640x480 with 1 Axes>"
      ]
     },
     "metadata": {},
     "output_type": "display_data"
    }
   ],
   "source": [
    "# Comparativa entre los salarios y los niveles educativos. Ojo con los outliers de bachelor por debajo. \n",
    "sns.boxplot(data=df_sin_dup, x='Education', y='Salary')\n",
    "\n",
    "# Añadir título y etiquetas\n",
    "plt.title('Distribución del Salario por Nivel Educativo')\n",
    "plt.xlabel('Nivel Educativo')\n",
    "plt.ylabel('Salario')\n",
    "\n",
    "# Mostrar el gráfico\n",
    "plt.show()\n"
   ]
  },
  {
   "cell_type": "markdown",
   "metadata": {},
   "source": [
    "5.  . ¿Cuál es la proporción de clientes con diferentes tipos de tarjetas de fidelidad?"
   ]
  },
  {
   "cell_type": "code",
   "execution_count": 80,
   "metadata": {},
   "outputs": [
    {
     "data": {
      "text/plain": [
       "Enrollment Type\n",
       "Standard          380419\n",
       "2018 Promotion     23341\n",
       "Name: count, dtype: int64"
      ]
     },
     "execution_count": 80,
     "metadata": {},
     "output_type": "execute_result"
    }
   ],
   "source": [
    "df_sin_dup[\"Enrollment Type\"].value_counts()"
   ]
  },
  {
   "cell_type": "code",
   "execution_count": null,
   "metadata": {},
   "outputs": [],
   "source": [
    "c_c_t = df_sin_dup['Loyalty Card'].value_counts()"
   ]
  },
  {
   "cell_type": "code",
   "execution_count": null,
   "metadata": {},
   "outputs": [
    {
     "data": {
      "image/png": "[encoded data removed]",
      "text/plain": [
       "<Figure size 800x800 with 1 Axes>"
      ]
     },
     "metadata": {},
     "output_type": "display_data"
    }
   ],
   "source": [
    "# Crear el gráfico de pastel (pie chart)\n",
    "plt.figure(figsize=(8, 8))  # Ajustar el tamaño de la figura\n",
    "plt.pie(c_c_t, labels=c_c_t.index, autopct='%1.1f%%', colors=[\"#9b6fa5\" , \"#d9b8b2\", \"#8ca8c2\"], startangle=90)\n",
    "plt.title('Porcentaje de clientes con diferente tipo de Tarjeta de fidelidad')\n",
    "plt.show()\n"
   ]
  },
  {
   "cell_type": "code",
   "execution_count": 87,
   "metadata": {},
   "outputs": [
    {
     "data": {
      "text/plain": [
       "Loyalty Card\n",
       "Star      183745\n",
       "Nova      136883\n",
       "Aurora     83132\n",
       "Name: count, dtype: int64"
      ]
     },
     "execution_count": 87,
     "metadata": {},
     "output_type": "execute_result"
    }
   ],
   "source": [
    "c_c_t"
   ]
  },
  {
   "cell_type": "markdown",
   "metadata": {},
   "source": [
    "6. ¿Cómo se distribuyen los clientes según su estado civil y género?"
   ]
  },
  {
   "cell_type": "code",
   "execution_count": null,
   "metadata": {},
   "outputs": [
    {
     "data": {
      "image/png": "[encoded data removed]",
      "text/plain": [
       "<Figure size 1000x600 with 1 Axes>"
      ]
     },
     "metadata": {},
     "output_type": "display_data"
    }
   ],
   "source": [
    "plt.figure(figsize=(10, 6))  # Ajustar el tamaño de la figura\n",
    "sns.countplot(data=df_sin_dup, x='Marital Status', hue='Gender', palette='muted')\n",
    "plt.title('Distribución de Clientes por Estado Civil y Género')\n",
    "plt.xlabel('Estado Civil')\n",
    "plt.ylabel('Número de Clientes')\n",
    "plt.show()\n"
   ]
  },
  {
   "cell_type": "code",
   "execution_count": 66,
   "metadata": {},
   "outputs": [
    {
     "data": {
      "text/html": [
       "<div>\n",
       "<style scoped>\n",
       "    .dataframe tbody tr th:only-of-type {\n",
       "        vertical-align: middle;\n",
       "    }\n",
       "\n",
       "    .dataframe tbody tr th {\n",
       "        vertical-align: top;\n",
       "    }\n",
       "\n",
       "    .dataframe thead th {\n",
       "        text-align: right;\n",
       "    }\n",
       "</style>\n",
       "<table border=\"1\" class=\"dataframe\">\n",
       "  <thead>\n",
       "    <tr style=\"text-align: right;\">\n",
       "      <th></th>\n",
       "      <th>Loyalty Number</th>\n",
       "      <th>Year</th>\n",
       "      <th>Month</th>\n",
       "      <th>Flights Booked</th>\n",
       "      <th>Flights with Companions</th>\n",
       "      <th>Total Flights</th>\n",
       "      <th>Distance</th>\n",
       "      <th>Points Accumulated</th>\n",
       "      <th>Points Redeemed</th>\n",
       "      <th>Dollar Cost Points Redeemed</th>\n",
       "      <th>Country</th>\n",
       "      <th>Province</th>\n",
       "      <th>City</th>\n",
       "      <th>Postal Code</th>\n",
       "      <th>Gender</th>\n",
       "      <th>Education</th>\n",
       "      <th>Salary</th>\n",
       "      <th>Marital Status</th>\n",
       "      <th>Loyalty Card</th>\n",
       "      <th>CLV</th>\n",
       "      <th>Enrollment Type</th>\n",
       "      <th>Enrollment Year</th>\n",
       "      <th>Enrollment Month</th>\n",
       "      <th>Cancellation Year</th>\n",
       "      <th>Cancellation Month</th>\n",
       "    </tr>\n",
       "  </thead>\n",
       "  <tbody>\n",
       "    <tr>\n",
       "      <th>0</th>\n",
       "      <td>100018</td>\n",
       "      <td>2017</td>\n",
       "      <td>1</td>\n",
       "      <td>3</td>\n",
       "      <td>0</td>\n",
       "      <td>3</td>\n",
       "      <td>1521</td>\n",
       "      <td>152.0</td>\n",
       "      <td>0</td>\n",
       "      <td>0</td>\n",
       "      <td>Canada</td>\n",
       "      <td>Alberta</td>\n",
       "      <td>Edmonton</td>\n",
       "      <td>T9G 1W3</td>\n",
       "      <td>Female</td>\n",
       "      <td>Bachelor</td>\n",
       "      <td>92552.0</td>\n",
       "      <td>Married</td>\n",
       "      <td>Aurora</td>\n",
       "      <td>7919.20</td>\n",
       "      <td>Standard</td>\n",
       "      <td>2016</td>\n",
       "      <td>8</td>\n",
       "      <td>NaN</td>\n",
       "      <td>NaN</td>\n",
       "    </tr>\n",
       "    <tr>\n",
       "      <th>1</th>\n",
       "      <td>100102</td>\n",
       "      <td>2017</td>\n",
       "      <td>1</td>\n",
       "      <td>10</td>\n",
       "      <td>4</td>\n",
       "      <td>14</td>\n",
       "      <td>2030</td>\n",
       "      <td>203.0</td>\n",
       "      <td>0</td>\n",
       "      <td>0</td>\n",
       "      <td>Canada</td>\n",
       "      <td>Ontario</td>\n",
       "      <td>Toronto</td>\n",
       "      <td>M1R 4K3</td>\n",
       "      <td>Male</td>\n",
       "      <td>College</td>\n",
       "      <td>NaN</td>\n",
       "      <td>Single</td>\n",
       "      <td>Nova</td>\n",
       "      <td>2887.74</td>\n",
       "      <td>Standard</td>\n",
       "      <td>2013</td>\n",
       "      <td>3</td>\n",
       "      <td>NaN</td>\n",
       "      <td>NaN</td>\n",
       "    </tr>\n",
       "  </tbody>\n",
       "</table>\n",
       "</div>"
      ],
      "text/plain": [
       "   Loyalty Number  Year  Month  Flights Booked  Flights with Companions  \\\n",
       "0          100018  2017      1               3                        0   \n",
       "1          100102  2017      1              10                        4   \n",
       "\n",
       "   Total Flights  Distance  Points Accumulated  Points Redeemed  \\\n",
       "0              3      1521               152.0                0   \n",
       "1             14      2030               203.0                0   \n",
       "\n",
       "   Dollar Cost Points Redeemed Country Province      City Postal Code  Gender  \\\n",
       "0                            0  Canada  Alberta  Edmonton     T9G 1W3  Female   \n",
       "1                            0  Canada  Ontario   Toronto     M1R 4K3    Male   \n",
       "\n",
       "  Education   Salary Marital Status Loyalty Card      CLV Enrollment Type  \\\n",
       "0  Bachelor  92552.0        Married       Aurora  7919.20        Standard   \n",
       "1   College      NaN         Single         Nova  2887.74        Standard   \n",
       "\n",
       "   Enrollment Year  Enrollment Month  Cancellation Year  Cancellation Month  \n",
       "0             2016                 8                NaN                 NaN  \n",
       "1             2013                 3                NaN                 NaN  "
      ]
     },
     "execution_count": 66,
     "metadata": {},
     "output_type": "execute_result"
    }
   ],
   "source": [
    "df_sin_dup.head(2)"
   ]
  }
 ],
 "metadata": {
  "kernelspec": {
   "display_name": "Python 3",
   "language": "python",
   "name": "python3"
  },
  "language_info": {
   "codemirror_mode": {
    "name": "ipython",
    "version": 3
   },
   "file_extension": ".py",
   "mimetype": "text/x-python",
   "name": "python",
   "nbconvert_exporter": "python",
   "pygments_lexer": "ipython3",
   "version": "3.11.10"
  }
 },
 "nbformat": 4,
 "nbformat_minor": 2
}
